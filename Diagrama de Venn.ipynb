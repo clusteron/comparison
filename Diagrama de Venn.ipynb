{
 "cells": [
  {
   "cell_type": "raw",
   "metadata": {},
   "source": [
    "Programa que pega 3 catalogos do SDSS e faz o match entre eles pelo diagrama de venn."
   ]
  },
  {
   "cell_type": "code",
   "execution_count": 1,
   "metadata": {
    "collapsed": false
   },
   "outputs": [],
   "source": [
    "from matplotlib_venn import venn2\n",
    "from matplotlib import pyplot as plt\n",
    "import numpy as np\n",
    "from matplotlib_venn import venn3, venn3_circles\n",
    "%matplotlib inline\n",
    "import astropy\n",
    "from astropy.io import ascii\n",
    "from astropy.io import fits\n",
    "from astropy.table import Table\n",
    "from astropy.table import Table, Column"
   ]
  },
  {
   "cell_type": "code",
   "execution_count": 2,
   "metadata": {
    "collapsed": false
   },
   "outputs": [
    {
     "name": "stderr",
     "output_type": "stream",
     "text": [
      "WARNING: W27: koester2007.vot:45:2: W27: COOSYS deprecated in VOTable 1.2 [astropy.io.votable.exceptions]\n",
      "WARNING:astropy:W27: koester2007.vot:45:2: W27: COOSYS deprecated in VOTable 1.2\n"
     ]
    },
    {
     "name": "stdout",
     "output_type": "stream",
     "text": [
      "\u001b[43;30mLendo os catalogos\u001b[m\n",
      "Wen: 132684\n",
      "Rykoff: 26111\n",
      "Koester: 13823\n"
     ]
    }
   ],
   "source": [
    "print(\"\\033[43;30mLendo os catalogos\\033[m\")\n",
    "wen = ascii.read('wen.csv') \n",
    "rykoff = fits.open('redmapper.fits') \n",
    "koester = Table.read('koester2007.vot', format='votable')\n",
    "rykoff = rykoff[1].data\n",
    "print 'Wen:',len(wen)\n",
    "print 'Rykoff:',len(rykoff)\n",
    "print 'Koester:', len(koester)"
   ]
  },
  {
   "cell_type": "raw",
   "metadata": {
    "slideshow": {
     "slide_type": "slide"
    }
   },
   "source": [
    "Pega o RA, DEC e z dos catalogos. Formata os 3 valores para fazer 3 matches em 1, com uma dada precisao e joga eleno diagrama de venn para fazer o match."
   ]
  },
  {
   "cell_type": "code",
   "execution_count": 3,
   "metadata": {
    "collapsed": false
   },
   "outputs": [
    {
     "name": "stdout",
     "output_type": "stream",
     "text": [
      "\u001b[43;30mWen - RA, DEC e z\u001b[m\n"
     ]
    }
   ],
   "source": [
    "print(\"\\033[43;30mWen - RA, DEC e z\\033[m\")\n",
    "#print wen\n",
    "Ra_w = wen['RAJ2000']\n",
    "Dec_w = wen['DEJ2000']\n",
    "z_w = wen['zph']"
   ]
  },
  {
   "cell_type": "code",
   "execution_count": 4,
   "metadata": {
    "collapsed": false
   },
   "outputs": [
    {
     "name": "stdout",
     "output_type": "stream",
     "text": [
      "\u001b[43;30mRykoff - RA, DEC e z\u001b[m\n"
     ]
    }
   ],
   "source": [
    "print(\"\\033[43;30mRykoff - RA, DEC e z\\033[m\")\n",
    "#print rykoff\n",
    "Ra_r = rykoff['RA']\n",
    "Dec_r = rykoff['DEC']\n",
    "z_r = rykoff['z_lambda']"
   ]
  },
  {
   "cell_type": "code",
   "execution_count": 5,
   "metadata": {
    "collapsed": false
   },
   "outputs": [
    {
     "name": "stdout",
     "output_type": "stream",
     "text": [
      "\u001b[43;30mKoester - RA, DEC e z\u001b[m\n"
     ]
    }
   ],
   "source": [
    "print(\"\\033[43;30mKoester - RA, DEC e z\\033[m\")\n",
    "#print koester\n",
    "Ra_k = koester['RAJ2000']\n",
    "Dec_k = koester['DEJ2000']\n",
    "z_k = koester['zph']"
   ]
  },
  {
   "cell_type": "code",
   "execution_count": 6,
   "metadata": {
    "collapsed": false
   },
   "outputs": [
    {
     "name": "stdout",
     "output_type": "stream",
     "text": [
      "\u001b[43;30mWen - Formatar RA, DEC e z\u001b[m\n",
      "132684\n"
     ]
    }
   ],
   "source": [
    "print(\"\\033[43;30mWen - Formatar RA, DEC e z\\033[m\")\n",
    "lista_w = []\n",
    "for i in range(0,len(wen)):\n",
    "    lista_w.append('%.1f_%.1f_%.1f'%(Ra_w[i], Dec_w[i], z_w[i]))\n",
    "print len(lista_w)\n"
   ]
  },
  {
   "cell_type": "code",
   "execution_count": 7,
   "metadata": {
    "collapsed": false
   },
   "outputs": [
    {
     "name": "stdout",
     "output_type": "stream",
     "text": [
      "\u001b[43;30mRykoff - Formatar RA, DEC e z\u001b[m\n",
      "26111\n"
     ]
    }
   ],
   "source": [
    "print(\"\\033[43;30mRykoff - Formatar RA, DEC e z\\033[m\")\n",
    "lista_r = []\n",
    "for i in range(0,len(rykoff)):\n",
    "    lista_r.append('%.1f_%.1f_%.1f'%(Ra_r[i], Dec_r[i], z_r[i]))\n",
    "print len(lista_r)"
   ]
  },
  {
   "cell_type": "code",
   "execution_count": 8,
   "metadata": {
    "collapsed": false
   },
   "outputs": [
    {
     "name": "stdout",
     "output_type": "stream",
     "text": [
      "\u001b[43;30mKoester - Formatar RA, DEC e z\u001b[m\n",
      "13823\n"
     ]
    }
   ],
   "source": [
    "print(\"\\033[43;30mKoester - Formatar RA, DEC e z\\033[m\")\n",
    "lista_k = []\n",
    "for i in range(0,len(koester)):\n",
    "    lista_k.append('%.1f_%.1f_%.1f'%(Ra_k[i], Dec_k[i], z_k[i]))\n",
    "print len(lista_k)"
   ]
  },
  {
   "cell_type": "code",
   "execution_count": 9,
   "metadata": {
    "collapsed": false
   },
   "outputs": [
    {
     "name": "stdout",
     "output_type": "stream",
     "text": [
      "\u001b[43;30mDiagrama de Venn\u001b[m\n"
     ]
    },
    {
     "data": {
      "image/png": "[encoded data removed]",
      "text/plain": [
       "<matplotlib.figure.Figure at 0x121350850>"
      ]
     },
     "metadata": {},
     "output_type": "display_data"
    }
   ],
   "source": [
    "print(\"\\033[43;30mDiagrama de Venn\\033[m\")\n",
    "Wen = set(lista_w)\n",
    "Rykoff = set(lista_r)\n",
    "Koester = set(lista_k)\n",
    "venn3([Wen, Rykoff, Koester], ('Wen', 'Rykoff', 'Koester'))\n",
    "plt.show()"
   ]
  },
  {
   "cell_type": "code",
   "execution_count": 10,
   "metadata": {
    "collapsed": false
   },
   "outputs": [
    {
     "name": "stdout",
     "output_type": "stream",
     "text": [
      "\u001b[43;30mResultados\u001b[m\n",
      "17671\n",
      "7788\n",
      "3512\n",
      "2943\n"
     ]
    }
   ],
   "source": [
    "print(\"\\033[43;30mResultados\\033[m\")\n",
    "W_R = Wen.intersection(Rykoff)\n",
    "print len(W_R)\n",
    "\n",
    "W_K = Wen.intersection(Koester)\n",
    "print len(W_K)\n",
    "\n",
    "K_R = Koester.intersection(Rykoff)\n",
    "print len(K_R)\n",
    "\n",
    "W_R_K = Wen.intersection(Koester).intersection(Rykoff)\n",
    "print len(W_R_K)"
   ]
  }
 ],
 "metadata": {
  "kernelspec": {
   "display_name": "Python 2",
   "language": "python",
   "name": "python2"
  },
  "language_info": {
   "codemirror_mode": {
    "name": "ipython",
    "version": 2
   },
   "file_extension": ".py",
   "mimetype": "text/x-python",
   "name": "python",
   "nbconvert_exporter": "python",
   "pygments_lexer": "ipython2",
   "version": "2.7.13"
  }
 },
 "nbformat": 4,
 "nbformat_minor": 0
}
