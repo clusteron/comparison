{
 "cells": [
  {
   "cell_type": "code",
   "execution_count": 1,
   "metadata": {
    "collapsed": true
   },
   "outputs": [],
   "source": [
    "import numpy as np\n",
    "import healpy as hp\n",
    "from astropy.io import ascii\n",
    "from astropy.io import fits\n",
    "import matplotlib.pyplot as plt\n",
    "from astropy.table import Table\n",
    "from astropy.table import Table, Column\n",
    "%matplotlib inline"
   ]
  },
  {
   "cell_type": "code",
   "execution_count": 2,
   "metadata": {
    "collapsed": false
   },
   "outputs": [
    {
     "name": "stderr",
     "output_type": "stream",
     "text": [
      "WARNING: W27: koester2007.vot:45:2: W27: COOSYS deprecated in VOTable 1.2 [astropy.io.votable.exceptions]\n",
      "WARNING:astropy:W27: koester2007.vot:45:2: W27: COOSYS deprecated in VOTable 1.2\n"
     ]
    },
    {
     "name": "stdout",
     "output_type": "stream",
     "text": [
      "Reading files\n",
      "Wen: 132684\n",
      "Rykoff: 26111\n",
      "Koester: 13823\n"
     ]
    }
   ],
   "source": [
    "print 'Reading files'\n",
    "w = Table.read('wen.csv') \n",
    "r = Table.read('redmapper.fits') \n",
    "k = Table.read('koester2007.vot', format='votable')\n",
    "print 'Wen:',len(w)\n",
    "print 'Rykoff:',len(r)\n",
    "print 'Koester:', len(k)"
   ]
  },
  {
   "cell_type": "code",
   "execution_count": 3,
   "metadata": {
    "collapsed": true
   },
   "outputs": [],
   "source": [
    "NSIDE = 32"
   ]
  },
  {
   "cell_type": "code",
   "execution_count": 4,
   "metadata": {
    "collapsed": false
   },
   "outputs": [],
   "source": [
    "# Phi e theta do Wen\n",
    "phi_w = np.deg2rad(w['RAJ2000'])\n",
    "theta_w = np.deg2rad(90.-w['DEJ2000'])"
   ]
  },
  {
   "cell_type": "code",
   "execution_count": 5,
   "metadata": {
    "collapsed": true
   },
   "outputs": [],
   "source": [
    "#Phi e theta do Rykoff\n",
    "phi_r = np.deg2rad(r['RA'])\n",
    "theta_r = np.deg2rad(90.-r['DEC'])"
   ]
  },
  {
   "cell_type": "code",
   "execution_count": 6,
   "metadata": {
    "collapsed": false
   },
   "outputs": [],
   "source": [
    "#Phi e theta do Koester\n",
    "phi_k = np.deg2rad(k['RAJ2000'])\n",
    "theta_k = np.deg2rad(90.-k['DEJ2000'])"
   ]
  },
  {
   "cell_type": "code",
   "execution_count": 7,
   "metadata": {
    "collapsed": true
   },
   "outputs": [],
   "source": [
    "# Pixels do Wen\n",
    "wpix = hp.ang2pix(NSIDE, theta_w, phi_w)\n",
    "n = np.arange(hp.nside2npix(NSIDE))"
   ]
  },
  {
   "cell_type": "code",
   "execution_count": 8,
   "metadata": {
    "collapsed": false
   },
   "outputs": [],
   "source": [
    "# Pixels do Rykoff\n",
    "rpix = hp.ang2pix(NSIDE, theta_r, phi_r)\n",
    "#m = np.arange(hp.nside2npix(NSIDE))"
   ]
  },
  {
   "cell_type": "code",
   "execution_count": 9,
   "metadata": {
    "collapsed": false
   },
   "outputs": [],
   "source": [
    "#Pixels do Koester\n",
    "kpix = hp.ang2pix(NSIDE, theta_k, phi_k)\n",
    "#l = np.arange(hp.nside2npix(NSIDE))"
   ]
  },
  {
   "cell_type": "code",
   "execution_count": 10,
   "metadata": {
    "collapsed": false
   },
   "outputs": [
    {
     "name": "stdout",
     "output_type": "stream",
     "text": [
      "132684 4900\n",
      "26111 3288\n",
      "13823 2379\n"
     ]
    }
   ],
   "source": [
    "#Retira os numeros de pixels repetidos\n",
    "uwpix = np.unique(wpix)\n",
    "urpix = np.unique(rpix)\n",
    "ukpix = np.unique(kpix)\n",
    "print len(wpix), len(uwpix)\n",
    "print len(rpix), len(urpix)\n",
    "print len(kpix), len(ukpix)"
   ]
  },
  {
   "cell_type": "code",
   "execution_count": 11,
   "metadata": {
    "collapsed": true
   },
   "outputs": [],
   "source": [
    "# Match de wpix com rpix\n",
    "lista = []\n",
    "for wp in uwpix: \n",
    "    for rp in urpix:\n",
    "        if wp==rp:\n",
    "            lista.append(wp)"
   ]
  },
  {
   "cell_type": "code",
   "execution_count": 12,
   "metadata": {
    "collapsed": false
   },
   "outputs": [
    {
     "name": "stdout",
     "output_type": "stream",
     "text": [
      "3288\n"
     ]
    }
   ],
   "source": [
    "print len(lista)"
   ]
  },
  {
   "cell_type": "code",
   "execution_count": 13,
   "metadata": {
    "collapsed": false
   },
   "outputs": [],
   "source": [
    "#Match da lista com o kpix\n",
    "lista_m = []\n",
    "for kp in ukpix:\n",
    "    for lp in lista:\n",
    "        if lp==kp:\n",
    "            lista_m.append(kp)"
   ]
  },
  {
   "cell_type": "code",
   "execution_count": 14,
   "metadata": {
    "collapsed": false
   },
   "outputs": [
    {
     "name": "stdout",
     "output_type": "stream",
     "text": [
      "2311\n"
     ]
    }
   ],
   "source": [
    "print len(lista_m)"
   ]
  },
  {
   "cell_type": "code",
   "execution_count": 15,
   "metadata": {
    "collapsed": true
   },
   "outputs": [],
   "source": [
    "#sysmap = np.zeros(hp.nside2npix(NSIDE),dtype=np.float32) +hp.UNSEEN\n",
    "wmap = np.zeros(hp.nside2npix(NSIDE), dtype=np.int8) + hp.UNSEEN\n",
    "rmap = np.zeros(hp.nside2npix(NSIDE), dtype=np.int8) + hp.UNSEEN\n",
    "kmap = np.zeros(hp.nside2npix(NSIDE), dtype=np.int8) + hp.UNSEEN\n",
    "mmap = np.zeros(hp.nside2npix(NSIDE), dtype=np.int8) + hp.UNSEEN"
   ]
  },
  {
   "cell_type": "code",
   "execution_count": 16,
   "metadata": {
    "collapsed": true
   },
   "outputs": [],
   "source": [
    "wmap[wpix] = 1\n",
    "rmap[rpix] = 1\n",
    "kmap[kpix] = 1 \n",
    "mmap[lista_m] = 1"
   ]
  },
  {
   "cell_type": "code",
   "execution_count": 17,
   "metadata": {
    "collapsed": false
   },
   "outputs": [
    {
     "data": {
      "image/png": "[encoded data removed]",
      "text/plain": [
       "<matplotlib.figure.Figure at 0x115f8e090>"
      ]
     },
     "metadata": {},
     "output_type": "display_data"
    },
    {
     "data": {
      "image/png": "[encoded data removed]",
      "text/plain": [
       "<matplotlib.figure.Figure at 0x11bd567d0>"
      ]
     },
     "metadata": {},
     "output_type": "display_data"
    },
    {
     "data": {
      "image/png": "[encoded data removed]",
      "text/plain": [
       "<matplotlib.figure.Figure at 0x11c51f7d0>"
      ]
     },
     "metadata": {},
     "output_type": "display_data"
    },
    {
     "data": {
      "image/png": "[encoded data removed]",
      "text/plain": [
       "<matplotlib.figure.Figure at 0x118858f10>"
      ]
     },
     "metadata": {},
     "output_type": "display_data"
    }
   ],
   "source": [
    "hp.mollview(wmap, fig=1, cmap='jet')\n",
    "hp.mollview(rmap, fig=2, cmap='jet')\n",
    "hp.mollview(kmap, fig=3, cmap='jet')\n",
    "hp.mollview(mmap, fig=4, cmap='jet')"
   ]
  },
  {
   "cell_type": "code",
   "execution_count": 18,
   "metadata": {
    "collapsed": false
   },
   "outputs": [
    {
     "name": "stdout",
     "output_type": "stream",
     "text": [
      "67.934928649 358.59375\n",
      "-12.0246991806 0.0\n"
     ]
    }
   ],
   "source": [
    "match = hp.pix2ang(NSIDE, lista_m)\n",
    "# Transforma de radiano para graus\n",
    "phi = match[1]\n",
    "theta = match[0]\n",
    "phi = np.rad2deg(phi)\n",
    "theta = 90 - np.rad2deg(theta)\n",
    "print max(theta), max(phi)\n",
    "print min(theta), min(phi)"
   ]
  },
  {
   "cell_type": "code",
   "execution_count": 19,
   "metadata": {
    "collapsed": false
   },
   "outputs": [],
   "source": [
    "# wen\n",
    "mask_w = np.zeros(len(wpix), int)\n",
    "goodies = np.array(lista_m)\n",
    "for i,wp in enumerate(wpix):\n",
    "    for good in goodies:\n",
    "        if wp == good:\n",
    "            mask_w[i] = 1"
   ]
  },
  {
   "cell_type": "code",
   "execution_count": 20,
   "metadata": {
    "collapsed": false
   },
   "outputs": [
    {
     "name": "stdout",
     "output_type": "stream",
     "text": [
      "[0 0 0 ..., 1 0 0]\n",
      "132684 80917\n"
     ]
    }
   ],
   "source": [
    "print mask_w\n",
    "print len(mask_w), sum(mask_w)"
   ]
  },
  {
   "cell_type": "code",
   "execution_count": 21,
   "metadata": {
    "collapsed": false
   },
   "outputs": [
    {
     "name": "stdout",
     "output_type": "stream",
     "text": [
      "80917\n"
     ]
    }
   ],
   "source": [
    "# Vai adicinar a nova lista apenas os indices que contém 1 (goodies matches)\n",
    "match_iw = []\n",
    "for i in range(0,len(mask_w)):\n",
    "    if mask_w[i]!=0:\n",
    "        match_iw.append(i)\n",
    "print len(match_iw)"
   ]
  },
  {
   "cell_type": "code",
   "execution_count": 22,
   "metadata": {
    "collapsed": false
   },
   "outputs": [],
   "source": [
    "# Aplicando os indices no wen\n",
    "new_w = w[match_iw]"
   ]
  },
  {
   "cell_type": "code",
   "execution_count": 23,
   "metadata": {
    "collapsed": false
   },
   "outputs": [],
   "source": [
    "# rykoff\n",
    "mask_r = np.zeros(len(rpix), int)\n",
    "goodies = np.array(lista_m)\n",
    "for i,rp in enumerate(rpix):\n",
    "    for good in goodies:\n",
    "        if rp == good:\n",
    "            mask_r[i] = 1 "
   ]
  },
  {
   "cell_type": "code",
   "execution_count": 24,
   "metadata": {
    "collapsed": false
   },
   "outputs": [
    {
     "name": "stdout",
     "output_type": "stream",
     "text": [
      "[1 1 1 ..., 1 1 1]\n",
      "26111 18758\n"
     ]
    }
   ],
   "source": [
    "print mask_r\n",
    "print len(mask_r), sum(mask_r)"
   ]
  },
  {
   "cell_type": "code",
   "execution_count": 25,
   "metadata": {
    "collapsed": false
   },
   "outputs": [
    {
     "name": "stdout",
     "output_type": "stream",
     "text": [
      "18758\n"
     ]
    }
   ],
   "source": [
    "# Vai adicinar a nova lista apenas os indices que contém 1 (goodies matches)\n",
    "match_ir = []\n",
    "for i in range(0,len(mask_r)):\n",
    "    if mask_r[i]!=0:\n",
    "        match_ir.append(i)\n",
    "print len(match_ir)"
   ]
  },
  {
   "cell_type": "code",
   "execution_count": 26,
   "metadata": {
    "collapsed": true
   },
   "outputs": [],
   "source": [
    "# Aplicando os indices no rykoff\n",
    "new_r = r[match_ir]"
   ]
  },
  {
   "cell_type": "code",
   "execution_count": 27,
   "metadata": {
    "collapsed": true
   },
   "outputs": [],
   "source": [
    "# koester\n",
    "mask_k = np.zeros(len(kpix), int)\n",
    "goodies = np.array(lista_m)\n",
    "for i,kp in enumerate(kpix):\n",
    "    for good in goodies:\n",
    "        if kp == good:\n",
    "            mask_k[i] = 1 "
   ]
  },
  {
   "cell_type": "code",
   "execution_count": 28,
   "metadata": {
    "collapsed": false
   },
   "outputs": [
    {
     "name": "stdout",
     "output_type": "stream",
     "text": [
      "[1 1 1 ..., 1 1 1]\n",
      "13823 13611\n"
     ]
    }
   ],
   "source": [
    "print mask_k\n",
    "print len(mask_k), sum(mask_k)"
   ]
  },
  {
   "cell_type": "code",
   "execution_count": 29,
   "metadata": {
    "collapsed": false
   },
   "outputs": [
    {
     "name": "stdout",
     "output_type": "stream",
     "text": [
      "13611\n"
     ]
    }
   ],
   "source": [
    "# Vai adicinar a nova lista apenas os indices que contém 1 (goodies matches)\n",
    "match_ik = []\n",
    "for i in range(0,len(mask_k)):\n",
    "    if mask_k[i]!=0:\n",
    "        match_ik.append(i)\n",
    "print len(match_ik)"
   ]
  },
  {
   "cell_type": "code",
   "execution_count": 30,
   "metadata": {
    "collapsed": true
   },
   "outputs": [],
   "source": [
    "# Aplicando os indices no koester\n",
    "new_k = k[match_ik]"
   ]
  },
  {
   "cell_type": "code",
   "execution_count": 31,
   "metadata": {
    "collapsed": false
   },
   "outputs": [],
   "source": [
    "new_w.write('new_w.fits', format='fits')"
   ]
  },
  {
   "cell_type": "code",
   "execution_count": 32,
   "metadata": {
    "collapsed": false
   },
   "outputs": [],
   "source": [
    "new_r.write('new_r.fits', format='fits')"
   ]
  },
  {
   "cell_type": "code",
   "execution_count": 34,
   "metadata": {
    "collapsed": false
   },
   "outputs": [],
   "source": [
    "new_k.write('new_k.vot', format='votable')"
   ]
  }
 ],
 "metadata": {
  "kernelspec": {
   "display_name": "Python 2",
   "language": "python",
   "name": "python2"
  },
  "language_info": {
   "codemirror_mode": {
    "name": "ipython",
    "version": 2
   },
   "file_extension": ".py",
   "mimetype": "text/x-python",
   "name": "python",
   "nbconvert_exporter": "python",
   "pygments_lexer": "ipython2",
   "version": "2.7.13"
  }
 },
 "nbformat": 4,
 "nbformat_minor": 2
}
