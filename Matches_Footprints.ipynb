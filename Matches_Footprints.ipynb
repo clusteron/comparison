{
 "cells": [
  {
   "cell_type": "code",
   "execution_count": 1,
   "metadata": {
    "collapsed": true
   },
   "outputs": [],
   "source": [
    "import numpy as np\n",
    "import healpy as hp\n",
    "from astropy.io import ascii\n",
    "from astropy.io import fits\n",
    "import matplotlib.pyplot as plt\n",
    "from astropy.table import Table\n",
    "from astropy.table import Table, Column\n",
    "from matplotlib_venn import venn2\n",
    "from matplotlib_venn import venn3, venn3_circles\n",
    "%matplotlib inline"
   ]
  },
  {
   "cell_type": "code",
   "execution_count": 2,
   "metadata": {
    "collapsed": false
   },
   "outputs": [
    {
     "name": "stdout",
     "output_type": "stream",
     "text": [
      "Reading files\n"
     ]
    },
    {
     "name": "stderr",
     "output_type": "stream",
     "text": [
      "WARNING: W27: koester2007.vot:45:2: W27: COOSYS deprecated in VOTable 1.2 [astropy.io.votable.exceptions]\n"
     ]
    },
    {
     "name": "stdout",
     "output_type": "stream",
     "text": [
      "Wen: 132684\n",
      "Rykoff: 26111\n",
      "Koester: 13823\n"
     ]
    }
   ],
   "source": [
    "# use a standard way to read, like Table.read\n",
    "print 'Reading files'\n",
    "w = ascii.read('wen.csv') \n",
    "r = fits.open('redmapper.fits') \n",
    "r = r[1].data\n",
    "k = Table.read('koester2007.vot', format='votable')\n",
    "print 'Wen:',len(w)\n",
    "print 'Rykoff:',len(r)\n",
    "print 'Koester:', len(k)"
   ]
  },
  {
   "cell_type": "code",
   "execution_count": 3,
   "metadata": {
    "collapsed": true
   },
   "outputs": [],
   "source": [
    "NSIDE = 32"
   ]
  },
  {
   "cell_type": "code",
   "execution_count": 54,
   "metadata": {
    "collapsed": false
   },
   "outputs": [],
   "source": [
    "# Phi e theta do Wen\n",
    "phi_w = np.deg2rad(w['RAJ2000'])\n",
    "theta_w = np.deg2rad(90.-w['DEJ2000'])"
   ]
  },
  {
   "cell_type": "code",
   "execution_count": 17,
   "metadata": {
    "collapsed": true
   },
   "outputs": [],
   "source": [
    "#Phi e theta do Rykoff\n",
    "phi_r = np.deg2rad(r['RA'])\n",
    "theta_r = np.deg2rad(90.-r['DEC'])"
   ]
  },
  {
   "cell_type": "code",
   "execution_count": 25,
   "metadata": {
    "collapsed": false
   },
   "outputs": [],
   "source": [
    "#Phi e theta do Koester\n",
    "phi_k = np.deg2rad(k['RAJ2000'])\n",
    "theta_k = np.deg2rad(90.-k['DEJ2000'])"
   ]
  },
  {
   "cell_type": "code",
   "execution_count": 55,
   "metadata": {
    "collapsed": true
   },
   "outputs": [],
   "source": [
    "# Pixels do Wen\n",
    "wpix = hp.ang2pix(NSIDE, theta_w, phi_w)\n",
    "n = np.arange(hp.nside2npix(NSIDE))"
   ]
  },
  {
   "cell_type": "code",
   "execution_count": 56,
   "metadata": {
    "collapsed": false
   },
   "outputs": [],
   "source": [
    "# Pixels do Rykoff\n",
    "rpix = hp.ang2pix(NSIDE, theta_r, phi_r)\n",
    "#m = np.arange(hp.nside2npix(NSIDE))"
   ]
  },
  {
   "cell_type": "code",
   "execution_count": 57,
   "metadata": {
    "collapsed": false
   },
   "outputs": [],
   "source": [
    "#Pixels do Koester\n",
    "kpix = hp.ang2pix(NSIDE, theta_k, phi_k)\n",
    "#l = np.arange(hp.nside2npix(NSIDE))"
   ]
  },
  {
   "cell_type": "code",
   "execution_count": 59,
   "metadata": {
    "collapsed": false
   },
   "outputs": [
    {
     "name": "stdout",
     "output_type": "stream",
     "text": [
      "132684 4900\n",
      "26111 3288\n",
      "13823 2379\n"
     ]
    }
   ],
   "source": [
    "#Retira os numeros de pixels repetidos\n",
    "uwpix = np.unique(wpix)\n",
    "urpix = np.unique(rpix)\n",
    "ukpix = np.unique(kpix)\n",
    "print len(wpix), len(uwpix)\n",
    "print len(rpix), len(urpix)\n",
    "print len(kpix), len(ukpix)"
   ]
  },
  {
   "cell_type": "code",
   "execution_count": 60,
   "metadata": {
    "collapsed": true
   },
   "outputs": [],
   "source": [
    "# Match de wpix com rpix\n",
    "lista = []\n",
    "for wp in uwpix: \n",
    "    for rp in urpix:\n",
    "        if wp==rp:\n",
    "            lista.append(wp)"
   ]
  },
  {
   "cell_type": "code",
   "execution_count": 61,
   "metadata": {
    "collapsed": false
   },
   "outputs": [
    {
     "name": "stdout",
     "output_type": "stream",
     "text": [
      "3288\n"
     ]
    }
   ],
   "source": [
    "print len(lista)"
   ]
  },
  {
   "cell_type": "code",
   "execution_count": 62,
   "metadata": {
    "collapsed": false
   },
   "outputs": [],
   "source": [
    "#Match da lista com o kpix\n",
    "\n",
    "lista_m = []\n",
    "for kp in ukpix:\n",
    "    for lp in lista:\n",
    "        if lp==kp:\n",
    "            lista_m.append(kp)"
   ]
  },
  {
   "cell_type": "code",
   "execution_count": 63,
   "metadata": {
    "collapsed": false
   },
   "outputs": [
    {
     "name": "stdout",
     "output_type": "stream",
     "text": [
      "2311\n"
     ]
    }
   ],
   "source": [
    "print len(lista_m)"
   ]
  },
  {
   "cell_type": "code",
   "execution_count": 51,
   "metadata": {
    "collapsed": true
   },
   "outputs": [],
   "source": [
    "#sysmap = np.zeros(hp.nside2npix(NSIDE),dtype=np.float32) +hp.UNSEEN\n",
    "mmap = np.zeros(hp.nside2npix(NSIDE), dtype=np.int8) + hp.UNSEEN"
   ]
  },
  {
   "cell_type": "code",
   "execution_count": 52,
   "metadata": {
    "collapsed": true
   },
   "outputs": [],
   "source": [
    "mmap[lista_m] = 1"
   ]
  },
  {
   "cell_type": "code",
   "execution_count": 53,
   "metadata": {
    "collapsed": false
   },
   "outputs": [
    {
     "data": {
      "image/png": "[encoded data removed]",
      "text/plain": [
       "<matplotlib.figure.Figure at 0x7f3e1eb39950>"
      ]
     },
     "metadata": {},
     "output_type": "display_data"
    }
   ],
   "source": [
    "# plot originals for comparison\n",
    "hp.mollview(mmap, fig=4, cmap='jet')"
   ]
  },
  {
   "cell_type": "code",
   "execution_count": 20,
   "metadata": {
    "collapsed": false
   },
   "outputs": [
    {
     "name": "stdout",
     "output_type": "stream",
     "text": [
      "67.934928649 358.59375\n",
      "-12.0246991806 0.0\n"
     ]
    }
   ],
   "source": [
    "match = hp.pix2ang(NSIDE, lista_m)\n",
    "# Transforma de radiano para graus\n",
    "phi = match[1]\n",
    "theta = match[0]\n",
    "phi = np.rad2deg(phi)\n",
    "theta = 90 - np.rad2deg(theta)\n",
    "print max(theta), max(phi)\n",
    "print min(theta), min(phi)"
   ]
  },
  {
   "cell_type": "code",
   "execution_count": 66,
   "metadata": {
    "collapsed": false
   },
   "outputs": [],
   "source": [
    "# wen\n",
    "mask = np.zeros(len(wpix), int)\n",
    "goodies = np.array(lista_m)\n",
    "for i,wp in enumerate(wpix):\n",
    "    for good in goodies:\n",
    "        if wp == good:\n",
    "            mask[i] = 1 "
   ]
  },
  {
   "cell_type": "code",
   "execution_count": 68,
   "metadata": {
    "collapsed": false
   },
   "outputs": [
    {
     "name": "stdout",
     "output_type": "stream",
     "text": [
      "[0 0 0 ..., 1 0 0]\n",
      "132684 80917\n"
     ]
    }
   ],
   "source": [
    "print mask\n",
    "print len(mask), sum(mask)"
   ]
  },
  {
   "cell_type": "code",
   "execution_count": null,
   "metadata": {
    "collapsed": false
   },
   "outputs": [],
   "source": []
  },
  {
   "cell_type": "code",
   "execution_count": 22,
   "metadata": {
    "collapsed": true
   },
   "outputs": [],
   "source": [
    "new_w = w[ra_w] and w[dec_w]"
   ]
  },
  {
   "cell_type": "code",
   "execution_count": 24,
   "metadata": {
    "collapsed": false
   },
   "outputs": [],
   "source": [
    "new_r = r[dec_r]"
   ]
  },
  {
   "cell_type": "code",
   "execution_count": 25,
   "metadata": {
    "collapsed": false
   },
   "outputs": [],
   "source": [
    "new_k = k[ra_k] and k[dec_k]"
   ]
  },
  {
   "cell_type": "code",
   "execution_count": 26,
   "metadata": {
    "collapsed": true
   },
   "outputs": [],
   "source": [
    "new_w.write('new_w.fits', format='fits')"
   ]
  },
  {
   "cell_type": "code",
   "execution_count": 27,
   "metadata": {
    "collapsed": false
   },
   "outputs": [],
   "source": [
    "np.save('new_r.fits', new_r)"
   ]
  },
  {
   "cell_type": "code",
   "execution_count": 28,
   "metadata": {
    "collapsed": false
   },
   "outputs": [],
   "source": [
    "np.save('new_k.fits', new_k)"
   ]
  }
 ],
 "metadata": {
  "kernelspec": {
   "display_name": "Python 2",
   "language": "python",
   "name": "python2"
  },
  "language_info": {
   "codemirror_mode": {
    "name": "ipython",
    "version": 2
   },
   "file_extension": ".py",
   "mimetype": "text/x-python",
   "name": "python",
   "nbconvert_exporter": "python",
   "pygments_lexer": "ipython2",
   "version": "2.7.12"
  }
 },
 "nbformat": 4,
 "nbformat_minor": 2
}
