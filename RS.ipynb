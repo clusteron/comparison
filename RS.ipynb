{
 "cells": [
  {
   "cell_type": "code",
   "execution_count": 1,
   "metadata": {
    "collapsed": true
   },
   "outputs": [],
   "source": [
    "import numpy as np\n",
    "import astropy\n",
    "from astropy.io import fits\n",
    "from astropy.table import Table\n",
    "from astropy.table import Table, Column\n",
    "import matplotlib.pyplot as plt\n",
    "%matplotlib inline\n",
    "%config InlineBackend.figure_format='svg'\n",
    "%config InlineBackend.figure_format='retina'"
   ]
  },
  {
   "cell_type": "code",
   "execution_count": 2,
   "metadata": {
    "collapsed": false
   },
   "outputs": [
    {
     "name": "stdout",
     "output_type": "stream",
     "text": [
      "Lendo os arquivos\n"
     ]
    }
   ],
   "source": [
    "print 'Lendo os arquivos'\n",
    "Catalog = Table.read('redmapper_sva1_public_v6.3_catalog.fits') \n",
    "Members = Table.read('redmapper_sva1_public_v6.3_members.fits')"
   ]
  },
  {
   "cell_type": "code",
   "execution_count": 3,
   "metadata": {
    "collapsed": false,
    "scrolled": true
   },
   "outputs": [
    {
     "data": {
      "text/html": [
       "&lt;Table length=787&gt;\n",
       "<table id=\"table2922718412\" class=\"table-striped table-bordered table-condensed\">\n",
       "<thead><tr><th>ID</th><th>NAME</th><th>RA</th><th>DEC</th><th>Z_LAMBDA</th><th>Z_LAMBDA_ERR</th><th>LAMBDA</th><th>LAMBDA_ERR</th><th>S</th><th>Z_SPEC</th><th>COADD_OBJECTS_ID</th><th>MAG_AUTO_G</th><th>MAGERR_AUTO_G</th><th>MAG_AUTO_R</th><th>MAGERR_AUTO_R</th><th>MAG_AUTO_I</th><th>MAGERR_AUTO_I</th><th>MAG_AUTO_Z</th><th>MAGERR_AUTO_Z</th><th>ZLUM</th><th>P_CEN [5]</th><th>RA_CEN [5]</th><th>DEC_CEN [5]</th><th>ID_CEN [5]</th><th>PZBINS [21]</th><th>PZ [21]</th></tr></thead>\n",
       "<thead><tr><th>int32</th><th>str20</th><th>float64</th><th>float64</th><th>float32</th><th>float32</th><th>float32</th><th>float32</th><th>float32</th><th>float32</th><th>int64</th><th>float32</th><th>float32</th><th>float32</th><th>float32</th><th>float32</th><th>float32</th><th>float32</th><th>float32</th><th>float32</th><th>float32</th><th>float32</th><th>float32</th><th>int64</th><th>float32</th><th>float32</th></tr></thead>\n",
       "<tr><td>1</td><td>RMJ051637.2-543059.0</td><td>79.154972</td><td>-54.516379</td><td>0.325385</td><td>0.0156929</td><td>178.93</td><td>8.70826</td><td>1.14444</td><td>-1.0</td><td>2941277821</td><td>19.3308</td><td>0.0165507</td><td>17.7746</td><td>0.00757759</td><td>17.27</td><td>0.0027726</td><td>16.9648</td><td>0.00359696</td><td>115.439</td><td>0.774046 .. 1.62934e-07</td><td>79.155 .. 79.1119</td><td>-54.5164 .. -54.5292</td><td>2941277821 .. 2941276802</td><td>0.233369 .. 0.417402</td><td>1.17898e-07 .. 2.83143e-06</td></tr>\n",
       "<tr><td>2</td><td>RMJ043817.3-541908.6</td><td>69.571902</td><td>-54.31906</td><td>0.420735</td><td>0.00585329</td><td>144.759</td><td>5.52022</td><td>1.02832</td><td>-1.0</td><td>2933925017</td><td>21.0098</td><td>0.0290017</td><td>19.2989</td><td>0.00727813</td><td>18.885</td><td>0.0145607</td><td>18.4453</td><td>0.0161723</td><td>84.9325</td><td>0.854941 .. 0.00218256</td><td>69.5719 .. 69.6102</td><td>-54.3191 .. -54.3208</td><td>2933925017 .. 2933921169</td><td>0.388913 .. 0.452557</td><td>1.45842e-05 .. 7.82411e-06</td></tr>\n",
       "<tr><td>3</td><td>RMJ004050.0-440750.2</td><td>10.208206</td><td>-44.130624</td><td>0.366564</td><td>0.00921988</td><td>137.452</td><td>7.03258</td><td>1.10551</td><td>0.35</td><td>2970601984</td><td>19.6015</td><td>0.00565305</td><td>17.9711</td><td>0.00163636</td><td>17.4067</td><td>0.00134249</td><td>17.1097</td><td>0.00146314</td><td>83.0146</td><td>0.99835 .. 0.000174902</td><td>10.2082 .. 10.2107</td><td>-44.1306 .. -44.1292</td><td>2970601984 .. 2970601804</td><td>0.310804 .. 0.422324</td><td>3.73338e-07 .. 3.98273e-06</td></tr>\n",
       "<tr><td>6</td><td>RMJ043257.5-455009.4</td><td>68.239513</td><td>-45.835956</td><td>0.248746</td><td>0.00992267</td><td>84.8524</td><td>3.57331</td><td>1.00166</td><td>-1.0</td><td>2928450719</td><td>18.4759</td><td>0.00420554</td><td>17.0608</td><td>0.00149202</td><td>16.6119</td><td>0.00188977</td><td>16.2991</td><td>0.00247154</td><td>61.1479</td><td>0.691787 .. 1.55638e-05</td><td>68.2395 .. 68.253</td><td>-45.836 .. -45.8286</td><td>2928450719 .. 2928449937</td><td>0.185617 .. 0.311874</td><td>1.50967e-10 .. 5.02423e-06</td></tr>\n",
       "<tr><td>7</td><td>RMJ044057.5-474440.8</td><td>70.239783</td><td>-47.744677</td><td>0.299916</td><td>0.0172229</td><td>82.5489</td><td>3.79438</td><td>1.01848</td><td>-1.0</td><td>2929096069</td><td>18.9711</td><td>0.00380147</td><td>17.5812</td><td>0.00136584</td><td>17.0911</td><td>0.00166355</td><td>16.7907</td><td>0.00198028</td><td>59.3634</td><td>0.97015 .. 0.000462807</td><td>70.2398 .. 70.2383</td><td>-47.7447 .. -47.739</td><td>2929096069 .. 2929095873</td><td>0.188187 .. 0.411644</td><td>5.97808e-11 .. 2.70805e-06</td></tr>\n",
       "<tr><td>9</td><td>RMJ044949.3-590945.6</td><td>72.455336</td><td>-59.162658</td><td>0.768165</td><td>0.012935</td><td>107.14</td><td>5.28967</td><td>0.998809</td><td>-1.0</td><td>2945224160</td><td>23.8522</td><td>0.144182</td><td>21.2879</td><td>0.0174842</td><td>19.9907</td><td>0.0086875</td><td>19.4528</td><td>0.0100286</td><td>77.3446</td><td>0.770174 .. 0.0117621</td><td>72.4553 .. 72.4401</td><td>-59.1627 .. -59.1664</td><td>2945224160 .. 2945224640</td><td>0.697638 .. 0.838692</td><td>0.000775894 .. 3.20381e-06</td></tr>\n",
       "<tr><td>10</td><td>RMJ043818.6-555158.2</td><td>69.57757</td><td>-55.866177</td><td>0.279446</td><td>0.0157517</td><td>77.9571</td><td>4.69764</td><td>1.0789</td><td>-1.0</td><td>2934470753</td><td>19.1399</td><td>0.00617561</td><td>17.7628</td><td>0.00214815</td><td>17.3097</td><td>0.00359884</td><td>17.0046</td><td>0.00468386</td><td>49.5735</td><td>0.313173 .. 0.0932368</td><td>69.5776 .. 69.5817</td><td>-55.8662 .. -55.8873</td><td>2934470753 .. 2934468114</td><td>0.179166 .. 0.379727</td><td>1.49172e-11 .. 2.93416e-06</td></tr>\n",
       "<tr><td>11</td><td>RMJ043839.7-490631.4</td><td>69.665337</td><td>-49.108727</td><td>0.243917</td><td>0.00899099</td><td>76.2028</td><td>4.15929</td><td>1.04244</td><td>-1.0</td><td>2930499285</td><td>17.7356</td><td>0.00292331</td><td>16.4453</td><td>0.00103793</td><td>15.9983</td><td>0.00143572</td><td>15.7056</td><td>0.00170403</td><td>51.9986</td><td>0.999742 .. 8.42793e-06</td><td>69.6653 .. 69.6663</td><td>-49.1087 .. -49.0961</td><td>2930499285 .. 2930497461</td><td>0.186107 .. 0.301728</td><td>1.69032e-10 .. 4.91934e-06</td></tr>\n",
       "<tr><td>12</td><td>RMJ044724.9-505504.4</td><td>71.853911</td><td>-50.917899</td><td>0.399545</td><td>0.00994685</td><td>77.8351</td><td>5.26136</td><td>1.10289</td><td>-1.0</td><td>2932605855</td><td>19.8159</td><td>0.0128592</td><td>18.1878</td><td>0.00378238</td><td>17.6228</td><td>0.00436363</td><td>17.3086</td><td>0.00581869</td><td>40.3144</td><td>0.999991 .. 1.63806e-07</td><td>71.8539 .. 71.8592</td><td>-50.9179 .. -50.927</td><td>2932605855 .. 2932600875</td><td>0.345969 .. 0.453121</td><td>3.08962e-11 .. 4.56136e-06</td></tr>\n",
       "<tr><td>13</td><td>RMJ043240.4-591519.1</td><td>68.168329</td><td>-59.255305</td><td>0.487187</td><td>0.00983308</td><td>85.4168</td><td>4.4094</td><td>0.998217</td><td>-1.0</td><td>2945822899</td><td>20.1359</td><td>0.00817992</td><td>18.3445</td><td>0.00201656</td><td>17.6506</td><td>0.00183886</td><td>17.2629</td><td>0.00255463</td><td>59.8183</td><td>0.995764 .. 8.74745e-07</td><td>68.1683 .. 68.1805</td><td>-59.2553 .. -59.2528</td><td>2945822899 .. 2945822368</td><td>0.429882 .. 0.544492</td><td>9.57022e-07 .. 4.54475e-06</td></tr>\n",
       "<tr><td>...</td><td>...</td><td>...</td><td>...</td><td>...</td><td>...</td><td>...</td><td>...</td><td>...</td><td>...</td><td>...</td><td>...</td><td>...</td><td>...</td><td>...</td><td>...</td><td>...</td><td>...</td><td>...</td><td>...</td><td>...</td><td>...</td><td>...</td><td>...</td><td>...</td><td>...</td></tr>\n",
       "<tr><td>2356</td><td>RMJ043337.9-503420.7</td><td>68.407753</td><td>-50.572419</td><td>0.724369</td><td>0.0245272</td><td>23.741</td><td>3.22454</td><td>1.01953</td><td>-1.0</td><td>2932218960</td><td>23.3509</td><td>0.0951935</td><td>21.4314</td><td>0.0208674</td><td>20.3237</td><td>0.0170788</td><td>19.8266</td><td>0.017418</td><td>19.4369</td><td>0.447675 .. 0.00758782</td><td>68.4078 .. 68.4166</td><td>-50.5724 .. -50.5536</td><td>2932218960 .. 2932221272</td><td>0.615399 .. 0.833339</td><td>2.1589e-05 .. 1.92505e-06</td></tr>\n",
       "<tr><td>2420</td><td>RMJ050422.8-524108.3</td><td>76.094956</td><td>-52.685651</td><td>0.735741</td><td>0.0221961</td><td>22.49</td><td>3.16117</td><td>1.04445</td><td>-1.0</td><td>2941862553</td><td>23.5681</td><td>0.113508</td><td>21.6967</td><td>0.0263539</td><td>20.5111</td><td>0.0141635</td><td>20.0653</td><td>0.0187634</td><td>16.6821</td><td>0.919593 .. 0.00120801</td><td>76.095 .. 76.0742</td><td>-52.6856 .. -52.7118</td><td>2941862553 .. 2941857548</td><td>0.639678 .. 0.831804</td><td>0.000818647 .. 2.2948e-06</td></tr>\n",
       "<tr><td>2461</td><td>RMJ053407.8-601422.3</td><td>83.532502</td><td>-60.239523</td><td>0.758854</td><td>0.0238548</td><td>29.2175</td><td>3.99508</td><td>1.4024</td><td>-1.0</td><td>2946673835</td><td>22.6516</td><td>0.0578041</td><td>20.7103</td><td>0.0113228</td><td>19.6166</td><td>0.00970288</td><td>19.1527</td><td>0.014659</td><td>16.7307</td><td>0.876624 .. 0.000143141</td><td>83.5325 .. 83.5249</td><td>-60.2395 .. -60.2394</td><td>2946673835 .. 2946673535</td><td>0.632223 .. 0.885485</td><td>0.000752933 .. 1.98164e-06</td></tr>\n",
       "<tr><td>2554</td><td>RMJ042437.0-563327.4</td><td>66.154175</td><td>-56.557609</td><td>0.784174</td><td>0.0161841</td><td>23.146</td><td>3.10082</td><td>1.0152</td><td>-1.0</td><td>2935218026</td><td>23.1239</td><td>0.0936176</td><td>21.6601</td><td>0.0369766</td><td>20.4519</td><td>0.0167072</td><td>19.9016</td><td>0.0176368</td><td>14.2287</td><td>0.95902 .. 3.58829e-05</td><td>66.1542 .. 66.1389</td><td>-56.5576 .. -56.5568</td><td>2935218026 .. 2935217983</td><td>0.694077 .. 0.87427</td><td>0.00334878 .. 3.52118e-06</td></tr>\n",
       "<tr><td>2635</td><td>RMJ050613.2-511233.4</td><td>76.555174</td><td>-51.209274</td><td>0.444259</td><td>0.0123245</td><td>26.4563</td><td>4.73197</td><td>1.1549</td><td>-1.0</td><td>2941797094</td><td>20.5409</td><td>0.0145219</td><td>18.8775</td><td>0.00369179</td><td>18.3188</td><td>0.00508871</td><td>17.9396</td><td>0.00581839</td><td>16.1916</td><td>0.972677 .. 1.70043e-05</td><td>76.5552 .. 76.5514</td><td>-51.2093 .. -51.2026</td><td>2941797094 .. 2941794951</td><td>0.38429 .. 0.504229</td><td>0.0108487 .. 3.72658e-06</td></tr>\n",
       "<tr><td>2865</td><td>RMJ043511.6-481852.5</td><td>68.798299</td><td>-48.314572</td><td>0.879035</td><td>0.0165216</td><td>26.2428</td><td>4.24933</td><td>1.11784</td><td>-1.0</td><td>2929888083</td><td>24.5086</td><td>0.165356</td><td>22.5813</td><td>0.0351318</td><td>21.4154</td><td>0.0331063</td><td>20.6348</td><td>0.0183143</td><td>15.8409</td><td>0.811165 .. 0.00487719</td><td>68.7983 .. 68.8095</td><td>-48.3146 .. -48.3188</td><td>2929888083 .. 2929887570</td><td>0.783163 .. 0.974908</td><td>5.04637e-06 .. 2.88383e-06</td></tr>\n",
       "<tr><td>2912</td><td>RMJ053330.2-572527.2</td><td>83.375706</td><td>-57.424225</td><td>0.792189</td><td>0.0176686</td><td>22.4748</td><td>3.17648</td><td>1.07912</td><td>-1.0</td><td>2942799066</td><td>22.9227</td><td>0.0636763</td><td>21.2245</td><td>0.0160431</td><td>20.0015</td><td>0.00901827</td><td>19.4663</td><td>0.0121091</td><td>15.0503</td><td>0.748663 .. 5.08027e-05</td><td>83.3757 .. 83.3759</td><td>-57.4242 .. -57.4235</td><td>2942799066 .. 2942797940</td><td>0.69487 .. 0.889509</td><td>0.00142509 .. 2.8966e-06</td></tr>\n",
       "<tr><td>3088</td><td>RMJ042347.0-505928.0</td><td>65.945918</td><td>-50.991119</td><td>0.827448</td><td>0.017676</td><td>22.3222</td><td>3.37015</td><td>1.06871</td><td>-1.0</td><td>2931094008</td><td>23.6453</td><td>0.0789491</td><td>21.9848</td><td>0.0214995</td><td>20.8692</td><td>0.0138272</td><td>20.3196</td><td>0.015806</td><td>15.4323</td><td>0.975318 .. 0.000285078</td><td>65.9459 .. 65.9385</td><td>-50.9911 .. -50.9902</td><td>2931094008 .. 2931094083</td><td>0.739681 .. 0.915216</td><td>0.00133326 .. 2.17145e-06</td></tr>\n",
       "<tr><td>3226</td><td>RMJ045848.7-605824.4</td><td>74.703072</td><td>-60.973441</td><td>0.813119</td><td>0.016441</td><td>28.6683</td><td>5.55532</td><td>1.40157</td><td>-1.0</td><td>2947714414</td><td>23.1607</td><td>0.0478785</td><td>21.899</td><td>0.0200095</td><td>20.8204</td><td>0.0165838</td><td>20.3344</td><td>0.0204346</td><td>16.6052</td><td>0.843777 .. 0.0085936</td><td>74.7031 .. 74.7219</td><td>-60.9734 .. -60.976</td><td>2947714414 .. 2947711977</td><td>0.722301 .. 0.903937</td><td>1.52999e-05 .. 2.31451e-06</td></tr>\n",
       "<tr><td>4718</td><td>RMJ042954.5-582254.0</td><td>67.476883</td><td>-58.381653</td><td>0.78461</td><td>0.0184983</td><td>25.7241</td><td>4.95244</td><td>1.18271</td><td>-1.0</td><td>2945495529</td><td>23.451</td><td>0.0707344</td><td>21.8546</td><td>0.0194228</td><td>20.6224</td><td>0.01167</td><td>20.0459</td><td>0.0124406</td><td>16.3476</td><td>0.989285 .. 0.000157882</td><td>67.4769 .. 67.4583</td><td>-58.3817 .. -58.3761</td><td>2945495529 .. 2945495955</td><td>0.685259 .. 0.883961</td><td>0.00295425 .. 2.74878e-06</td></tr>\n",
       "</table>"
      ],
      "text/plain": [
       "<Table length=787>\n",
       "  ID          NAME         ...     PZBINS [21]               PZ [21]          \n",
       "int32        str20         ...       float32                 float32          \n",
       "----- -------------------- ... -------------------- --------------------------\n",
       "    1 RMJ051637.2-543059.0 ... 0.233369 .. 0.417402 1.17898e-07 .. 2.83143e-06\n",
       "    2 RMJ043817.3-541908.6 ... 0.388913 .. 0.452557 1.45842e-05 .. 7.82411e-06\n",
       "    3 RMJ004050.0-440750.2 ... 0.310804 .. 0.422324 3.73338e-07 .. 3.98273e-06\n",
       "    6 RMJ043257.5-455009.4 ... 0.185617 .. 0.311874 1.50967e-10 .. 5.02423e-06\n",
       "    7 RMJ044057.5-474440.8 ... 0.188187 .. 0.411644 5.97808e-11 .. 2.70805e-06\n",
       "    9 RMJ044949.3-590945.6 ... 0.697638 .. 0.838692 0.000775894 .. 3.20381e-06\n",
       "   10 RMJ043818.6-555158.2 ... 0.179166 .. 0.379727 1.49172e-11 .. 2.93416e-06\n",
       "   11 RMJ043839.7-490631.4 ... 0.186107 .. 0.301728 1.69032e-10 .. 4.91934e-06\n",
       "   12 RMJ044724.9-505504.4 ... 0.345969 .. 0.453121 3.08962e-11 .. 4.56136e-06\n",
       "   13 RMJ043240.4-591519.1 ... 0.429882 .. 0.544492 9.57022e-07 .. 4.54475e-06\n",
       "  ...                  ... ...                  ...                        ...\n",
       " 2356 RMJ043337.9-503420.7 ... 0.615399 .. 0.833339  2.1589e-05 .. 1.92505e-06\n",
       " 2420 RMJ050422.8-524108.3 ... 0.639678 .. 0.831804  0.000818647 .. 2.2948e-06\n",
       " 2461 RMJ053407.8-601422.3 ... 0.632223 .. 0.885485 0.000752933 .. 1.98164e-06\n",
       " 2554 RMJ042437.0-563327.4 ...  0.694077 .. 0.87427  0.00334878 .. 3.52118e-06\n",
       " 2635 RMJ050613.2-511233.4 ...  0.38429 .. 0.504229   0.0108487 .. 3.72658e-06\n",
       " 2865 RMJ043511.6-481852.5 ... 0.783163 .. 0.974908 5.04637e-06 .. 2.88383e-06\n",
       " 2912 RMJ053330.2-572527.2 ...  0.69487 .. 0.889509   0.00142509 .. 2.8966e-06\n",
       " 3088 RMJ042347.0-505928.0 ... 0.739681 .. 0.915216  0.00133326 .. 2.17145e-06\n",
       " 3226 RMJ045848.7-605824.4 ... 0.722301 .. 0.903937 1.52999e-05 .. 2.31451e-06\n",
       " 4718 RMJ042954.5-582254.0 ... 0.685259 .. 0.883961  0.00295425 .. 2.74878e-06"
      ]
     },
     "execution_count": 3,
     "metadata": {},
     "output_type": "execute_result"
    }
   ],
   "source": [
    "Catalog"
   ]
  },
  {
   "cell_type": "code",
   "execution_count": 4,
   "metadata": {
    "collapsed": false,
    "scrolled": true
   },
   "outputs": [
    {
     "data": {
      "text/html": [
       "&lt;Table length=48937&gt;\n",
       "<table id=\"table2922717324\" class=\"table-striped table-bordered table-condensed\">\n",
       "<thead><tr><th>ID</th><th>RA</th><th>DEC</th><th>R</th><th>P</th><th>P_FREE</th><th>THETA_I</th><th>THETA_R</th><th>MAG_AUTO_G</th><th>MAGERR_AUTO_G</th><th>MAG_AUTO_R</th><th>MAGERR_AUTO_R</th><th>MAG_AUTO_I</th><th>MAGERR_AUTO_I</th><th>MAG_AUTO_Z</th><th>MAGERR_AUTO_Z</th><th>Z_SPEC</th><th>COADD_OBJECTS_ID</th></tr></thead>\n",
       "<thead><tr><th>int32</th><th>float64</th><th>float64</th><th>float32</th><th>float32</th><th>float32</th><th>float32</th><th>float32</th><th>float32</th><th>float32</th><th>float32</th><th>float32</th><th>float32</th><th>float32</th><th>float32</th><th>float32</th><th>float32</th><th>int64</th></tr></thead>\n",
       "<tr><td>1</td><td>79.258944</td><td>-54.535269</td><td>0.747047</td><td>0.376904</td><td>1.0</td><td>1.0</td><td>1.0</td><td>22.0277</td><td>0.0668736</td><td>20.2262</td><td>0.0303341</td><td>19.6535</td><td>0.0109067</td><td>19.2945</td><td>0.0131547</td><td>-1.0</td><td>2941276134</td></tr>\n",
       "<tr><td>1</td><td>79.230668</td><td>-54.524602</td><td>0.528123</td><td>0.87143</td><td>1.0</td><td>1.0</td><td>1.0</td><td>22.4995</td><td>0.0867472</td><td>20.9053</td><td>0.0363788</td><td>20.3853</td><td>0.0140516</td><td>20.1439</td><td>0.0223696</td><td>-1.0</td><td>2941276740</td></tr>\n",
       "<tr><td>1</td><td>79.221008</td><td>-54.524717</td><td>0.463454</td><td>0.0446735</td><td>1.0</td><td>1.0</td><td>1.0</td><td>21.7136</td><td>0.0739576</td><td>20.788</td><td>0.0612108</td><td>20.2594</td><td>0.0206772</td><td>20.0781</td><td>0.0329555</td><td>-1.0</td><td>2941276745</td></tr>\n",
       "<tr><td>1</td><td>79.176153</td><td>-54.518638</td><td>0.147698</td><td>0.992706</td><td>1.0</td><td>1.0</td><td>1.0</td><td>21.8273</td><td>0.0474402</td><td>20.3564</td><td>0.0236727</td><td>19.8528</td><td>0.00983454</td><td>19.5723</td><td>0.0123743</td><td>-1.0</td><td>2941277099</td></tr>\n",
       "<tr><td>1</td><td>79.186177</td><td>-54.517957</td><td>0.214826</td><td>0.969861</td><td>1.0</td><td>1.0</td><td>1.0</td><td>22.2039</td><td>0.0681773</td><td>20.6128</td><td>0.0304408</td><td>20.1091</td><td>0.0107714</td><td>19.7636</td><td>0.0133156</td><td>-1.0</td><td>2941277142</td></tr>\n",
       "<tr><td>1</td><td>79.162981</td><td>-54.512818</td><td>0.0691941</td><td>0.993559</td><td>1.0</td><td>1.0</td><td>1.0</td><td>21.9715</td><td>0.0535033</td><td>20.3651</td><td>0.023588</td><td>19.8526</td><td>0.00935774</td><td>19.5368</td><td>0.0117218</td><td>-1.0</td><td>2941277414</td></tr>\n",
       "<tr><td>1</td><td>79.156292</td><td>-54.511709</td><td>0.0559159</td><td>0.992823</td><td>1.0</td><td>1.0</td><td>1.0</td><td>21.1399</td><td>0.0295215</td><td>19.7332</td><td>0.0156126</td><td>19.2751</td><td>0.00590652</td><td>18.9956</td><td>0.00794734</td><td>-1.0</td><td>2941277527</td></tr>\n",
       "<tr><td>1</td><td>79.274604</td><td>-54.510336</td><td>0.823657</td><td>0.817294</td><td>1.0</td><td>0.913812</td><td>1.0</td><td>22.2673</td><td>0.080462</td><td>21.0407</td><td>0.04887</td><td>20.576</td><td>0.0179924</td><td>20.3253</td><td>0.0242645</td><td>-1.0</td><td>2941277528</td></tr>\n",
       "<tr><td>1</td><td>79.195897</td><td>-54.510691</td><td>0.288637</td><td>0.973958</td><td>1.0</td><td>1.0</td><td>1.0</td><td>21.2902</td><td>0.0364149</td><td>19.7492</td><td>0.0170237</td><td>19.2085</td><td>0.0057867</td><td>18.9006</td><td>0.00743562</td><td>-1.0</td><td>2941277591</td></tr>\n",
       "<tr><td>1</td><td>79.24557</td><td>-54.509211</td><td>0.627166</td><td>0.905085</td><td>1.0</td><td>1.0</td><td>1.0</td><td>21.0902</td><td>0.0353369</td><td>19.4789</td><td>0.01516</td><td>18.9728</td><td>0.0059837</td><td>18.6482</td><td>0.0075681</td><td>-1.0</td><td>2941277683</td></tr>\n",
       "<tr><td>...</td><td>...</td><td>...</td><td>...</td><td>...</td><td>...</td><td>...</td><td>...</td><td>...</td><td>...</td><td>...</td><td>...</td><td>...</td><td>...</td><td>...</td><td>...</td><td>...</td><td>...</td></tr>\n",
       "<tr><td>4718</td><td>67.525878</td><td>-58.389179</td><td>0.502977</td><td>0.70841</td><td>1.0</td><td>1.0</td><td>1.0</td><td>23.4085</td><td>0.0652742</td><td>21.4484</td><td>0.0134151</td><td>20.3033</td><td>0.00837943</td><td>19.8178</td><td>0.00969998</td><td>-1.0</td><td>2945491886</td></tr>\n",
       "<tr><td>4718</td><td>67.516611</td><td>-58.380659</td><td>0.391878</td><td>0.456916</td><td>1.0</td><td>1.0</td><td>1.0</td><td>24.0545</td><td>0.100431</td><td>22.2294</td><td>0.0233147</td><td>21.1549</td><td>0.0155472</td><td>20.7718</td><td>0.0198099</td><td>-1.0</td><td>2945495557</td></tr>\n",
       "<tr><td>4718</td><td>67.504624</td><td>-58.379786</td><td>0.275573</td><td>0.799451</td><td>1.0</td><td>1.0</td><td>1.0</td><td>25.0615</td><td>0.254531</td><td>23.5135</td><td>0.0738557</td><td>22.3051</td><td>0.0448324</td><td>21.7296</td><td>0.0479748</td><td>-1.0</td><td>2945495615</td></tr>\n",
       "<tr><td>4718</td><td>67.502272</td><td>-58.376215</td><td>0.270239</td><td>0.306622</td><td>1.0</td><td>1.0</td><td>1.0</td><td>26.1849</td><td>0.748207</td><td>22.9989</td><td>0.0475197</td><td>21.6792</td><td>0.0263808</td><td>21.0299</td><td>0.0263321</td><td>-1.0</td><td>2945495921</td></tr>\n",
       "<tr><td>4718</td><td>67.502392</td><td>-58.370693</td><td>0.324983</td><td>0.668566</td><td>1.0</td><td>0.999898</td><td>1.0</td><td>25.1432</td><td>0.226469</td><td>23.788</td><td>0.0767432</td><td>22.6177</td><td>0.0488089</td><td>22.2794</td><td>0.0670136</td><td>-1.0</td><td>2945499429</td></tr>\n",
       "<tr><td>4718</td><td>67.512681</td><td>-58.3703</td><td>0.412269</td><td>0.0622268</td><td>1.0</td><td>0.990851</td><td>1.0</td><td>24.3598</td><td>0.133894</td><td>23.4292</td><td>0.0669917</td><td>22.6794</td><td>0.0626882</td><td>22.328</td><td>0.0849219</td><td>-1.0</td><td>2945499464</td></tr>\n",
       "<tr><td>4718</td><td>67.515461</td><td>-58.368211</td><td>0.45645</td><td>0.225009</td><td>1.0</td><td>1.0</td><td>1.0</td><td>24.5198</td><td>0.11752</td><td>23.3439</td><td>0.0491141</td><td>22.5297</td><td>0.0413961</td><td>22.1407</td><td>0.0525518</td><td>-1.0</td><td>2945499645</td></tr>\n",
       "<tr><td>4718</td><td>67.531273</td><td>-58.367072</td><td>0.601985</td><td>0.0173045</td><td>1.0</td><td>1.0</td><td>0.999323</td><td>24.2241</td><td>0.0904582</td><td>23.0659</td><td>0.0383758</td><td>22.321</td><td>0.0344551</td><td>22.0451</td><td>0.0485329</td><td>-1.0</td><td>2945499745</td></tr>\n",
       "<tr><td>4718</td><td>67.504254</td><td>-58.360906</td><td>0.474129</td><td>0.201177</td><td>1.0</td><td>1.0</td><td>1.0</td><td>23.7161</td><td>0.0677624</td><td>22.3389</td><td>0.0227195</td><td>21.4791</td><td>0.019162</td><td>21.1594</td><td>0.0259947</td><td>-1.0</td><td>2945503332</td></tr>\n",
       "<tr><td>4718</td><td>67.449636</td><td>-58.344708</td><td>0.74447</td><td>0.385714</td><td>1.0</td><td>1.0</td><td>0.638546</td><td>25.7392</td><td>0.520324</td><td>23.4542</td><td>0.0749864</td><td>22.3668</td><td>0.0532458</td><td>21.9498</td><td>0.0647602</td><td>-1.0</td><td>2945507724</td></tr>\n",
       "</table>"
      ],
      "text/plain": [
       "<Table length=48937>\n",
       "  ID      RA       DEC         R     ... MAGERR_AUTO_Z  Z_SPEC COADD_OBJECTS_ID\n",
       "int32  float64   float64    float32  ...    float32    float32      int64      \n",
       "----- --------- ---------- --------- ... ------------- ------- ----------------\n",
       "    1 79.258944 -54.535269  0.747047 ...     0.0131547    -1.0       2941276134\n",
       "    1 79.230668 -54.524602  0.528123 ...     0.0223696    -1.0       2941276740\n",
       "    1 79.221008 -54.524717  0.463454 ...     0.0329555    -1.0       2941276745\n",
       "    1 79.176153 -54.518638  0.147698 ...     0.0123743    -1.0       2941277099\n",
       "    1 79.186177 -54.517957  0.214826 ...     0.0133156    -1.0       2941277142\n",
       "    1 79.162981 -54.512818 0.0691941 ...     0.0117218    -1.0       2941277414\n",
       "    1 79.156292 -54.511709 0.0559159 ...    0.00794734    -1.0       2941277527\n",
       "    1 79.274604 -54.510336  0.823657 ...     0.0242645    -1.0       2941277528\n",
       "    1 79.195897 -54.510691  0.288637 ...    0.00743562    -1.0       2941277591\n",
       "    1  79.24557 -54.509211  0.627166 ...     0.0075681    -1.0       2941277683\n",
       "  ...       ...        ...       ... ...           ...     ...              ...\n",
       " 4718 67.525878 -58.389179  0.502977 ...    0.00969998    -1.0       2945491886\n",
       " 4718 67.516611 -58.380659  0.391878 ...     0.0198099    -1.0       2945495557\n",
       " 4718 67.504624 -58.379786  0.275573 ...     0.0479748    -1.0       2945495615\n",
       " 4718 67.502272 -58.376215  0.270239 ...     0.0263321    -1.0       2945495921\n",
       " 4718 67.502392 -58.370693  0.324983 ...     0.0670136    -1.0       2945499429\n",
       " 4718 67.512681   -58.3703  0.412269 ...     0.0849219    -1.0       2945499464\n",
       " 4718 67.515461 -58.368211   0.45645 ...     0.0525518    -1.0       2945499645\n",
       " 4718 67.531273 -58.367072  0.601985 ...     0.0485329    -1.0       2945499745\n",
       " 4718 67.504254 -58.360906  0.474129 ...     0.0259947    -1.0       2945503332\n",
       " 4718 67.449636 -58.344708   0.74447 ...     0.0647602    -1.0       2945507724"
      ]
     },
     "execution_count": 4,
     "metadata": {},
     "output_type": "execute_result"
    }
   ],
   "source": [
    "Members"
   ]
  },
  {
   "cell_type": "code",
   "execution_count": 73,
   "metadata": {
    "collapsed": false,
    "scrolled": true
   },
   "outputs": [
    {
     "name": "stdout",
     "output_type": "stream",
     "text": [
      "Histograma do Redshift - Catalogs\n"
     ]
    },
    {
     "data": {
      "text/plain": [
       "<matplotlib.text.Text at 0xa5d9072c>"
      ]
     },
     "execution_count": 73,
     "metadata": {},
     "output_type": "execute_result"
    },
    {
     "data": {
      "image/png": "[encoded data removed]",
      "text/plain": [
       "<matplotlib.figure.Figure at 0xa5dec64c>"
      ]
     },
     "metadata": {
      "image/png": {
       "height": 269,
       "width": 377
      }
     },
     "output_type": "display_data"
    }
   ],
   "source": [
    "print 'Histograma do Redshift - Catalogs'\n",
    "C = Catalog['Z_LAMBDA']\n",
    "Hist_z = plt.hist(Catalog['Z_LAMBDA'], bins = 8)\n",
    "plt.title('z', fontsize='20')"
   ]
  },
  {
   "cell_type": "code",
   "execution_count": 72,
   "metadata": {
    "collapsed": false
   },
   "outputs": [
    {
     "name": "stdout",
     "output_type": "stream",
     "text": [
      "Histograma de Riqueza - Catalogs\n"
     ]
    },
    {
     "data": {
      "text/plain": [
       "<matplotlib.text.Text at 0xa5e200cc>"
      ]
     },
     "execution_count": 72,
     "metadata": {},
     "output_type": "execute_result"
    },
    {
     "data": {
      "image/png": "[encoded data removed]",
      "text/plain": [
       "<matplotlib.figure.Figure at 0xa5df4bec>"
      ]
     },
     "metadata": {
      "image/png": {
       "height": 269,
       "width": 377
      }
     },
     "output_type": "display_data"
    }
   ],
   "source": [
    "print 'Histograma de Riqueza - Catalogs'\n",
    "Hist_r = plt.hist(Catalog['LAMBDA'], bins = 8)\n",
    "plt.title('Rich', fontsize='20')"
   ]
  },
  {
   "cell_type": "markdown",
   "metadata": {},
   "source": [
    "analisar em bins de redshift e riqueza como a sequencia vermelha se comporta: espalhamento (std) tentando reproduzir um resultado de Hennig et al. 2017\n",
    "\n",
    "histograma de riqueza e redshift, usa a mediana pra dividir a amostra pela metade.\n",
    "para cada bin de amostra, calcula o espalhamento das cores: g-r, r-i..."
   ]
  }
 ],
 "metadata": {
  "kernelspec": {
   "display_name": "Python 2",
   "language": "python",
   "name": "python2"
  },
  "language_info": {
   "codemirror_mode": {
    "name": "ipython",
    "version": 2
   },
   "file_extension": ".py",
   "mimetype": "text/x-python",
   "name": "python",
   "nbconvert_exporter": "python",
   "pygments_lexer": "ipython2",
   "version": "2.7.13"
  }
 },
 "nbformat": 4,
 "nbformat_minor": 2
}
