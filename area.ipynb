{
 "cells": [
  {
   "cell_type": "code",
   "execution_count": 1,
   "metadata": {
    "collapsed": true
   },
   "outputs": [],
   "source": [
    "import numpy as np\n",
    "import healpy as hp\n",
    "from astropy.io import ascii\n",
    "from astropy.io import fits\n",
    "import matplotlib.pyplot as plt\n",
    "%matplotlib inline"
   ]
  },
  {
   "cell_type": "code",
   "execution_count": 2,
   "metadata": {
    "collapsed": false
   },
   "outputs": [
    {
     "name": "stdout",
     "output_type": "stream",
     "text": [
      "Reading files\n",
      "132684\n",
      "26111\n"
     ]
    }
   ],
   "source": [
    "print 'Reading files'\n",
    "w = ascii.read('wen.csv') \n",
    "r = fits.open('redmapper.fits') \n",
    "r = r[1].data\n",
    "print len(w)\n",
    "print len(r)"
   ]
  },
  {
   "cell_type": "code",
   "execution_count": 3,
   "metadata": {
    "collapsed": false
   },
   "outputs": [
    {
     "data": {
      "text/plain": [
       "(<MaskedColumn name='RAJ2000' dtype='float64' length=132684>\n",
       "   0.00236\n",
       "   0.00957\n",
       "   0.01377\n",
       "   0.01475\n",
       "   0.01945\n",
       "   0.02024\n",
       "   0.02303\n",
       "   0.02482\n",
       "   0.02643\n",
       "   0.02755\n",
       "   0.02762\n",
       "   0.02765\n",
       "       ...\n",
       " 359.96988\n",
       " 359.97192\n",
       " 359.97241\n",
       "  359.9729\n",
       " 359.97311\n",
       " 359.97504\n",
       " 359.97543\n",
       " 359.98712\n",
       " 359.99329\n",
       "   359.995\n",
       " 359.99677\n",
       "  359.9986, <MaskedColumn name='DEJ2000' dtype='float64' length=132684>\n",
       "  32.20925\n",
       "   5.28827\n",
       "  31.23175\n",
       "  31.78564\n",
       "   2.47386\n",
       "  -3.54679\n",
       "  35.76957\n",
       "   15.4299\n",
       "  22.20558\n",
       "  10.11333\n",
       "  31.87626\n",
       "  29.35813\n",
       "       ...\n",
       "   0.69856\n",
       "  -9.76429\n",
       "  13.70903\n",
       "   -7.9587\n",
       "   3.45559\n",
       "  30.13158\n",
       " -11.13708\n",
       "  22.67506\n",
       "  13.29671\n",
       "   0.70175\n",
       "  21.78513\n",
       "  -3.43781)"
      ]
     },
     "execution_count": 3,
     "metadata": {},
     "output_type": "execute_result"
    }
   ],
   "source": [
    "# RA e DEC - catalogo Wen\n",
    "w['RAJ2000'], w['DEJ2000']"
   ]
  },
  {
   "cell_type": "code",
   "execution_count": 4,
   "metadata": {
    "collapsed": false
   },
   "outputs": [
    {
     "data": {
      "text/plain": [
       "(array([ 239.58332907,  250.08254839,  197.87295717, ...,  180.83079888,\n",
       "         153.82422578,  135.96337099]),\n",
       " array([ 27.23341292,  46.71153135,  -1.34111628, ...,  52.37043161,\n",
       "         43.63535754,  15.20173173]))"
      ]
     },
     "execution_count": 4,
     "metadata": {},
     "output_type": "execute_result"
    }
   ],
   "source": [
    "# RA e DEC catalogo Redmapper\n",
    "r['RA'], r['DEC']"
   ]
  },
  {
   "cell_type": "code",
   "execution_count": 5,
   "metadata": {
    "collapsed": true
   },
   "outputs": [],
   "source": [
    "NSIDE = 128"
   ]
  },
  {
   "cell_type": "code",
   "execution_count": 6,
   "metadata": {
    "collapsed": false
   },
   "outputs": [
    {
     "data": {
      "text/plain": [
       "0.2098234113027917"
      ]
     },
     "execution_count": 6,
     "metadata": {},
     "output_type": "execute_result"
    }
   ],
   "source": [
    "# Area de cada pixel\n",
    "hp.nside2pixarea(NSIDE, degrees = True)"
   ]
  },
  {
   "cell_type": "code",
   "execution_count": 7,
   "metadata": {
    "collapsed": true
   },
   "outputs": [],
   "source": [
    "phi_w = np.deg2rad(w['RAJ2000'])\n",
    "theta_w = np.deg2rad(90.-w['DEJ2000'])"
   ]
  },
  {
   "cell_type": "code",
   "execution_count": 8,
   "metadata": {
    "collapsed": true
   },
   "outputs": [],
   "source": [
    "phi_r = np.deg2rad(r['RA'])\n",
    "theta_r = np.deg2rad(90.-r['DEC'])"
   ]
  },
  {
   "cell_type": "code",
   "execution_count": 9,
   "metadata": {
    "collapsed": false
   },
   "outputs": [],
   "source": [
    "wpix = hp.ang2pix(NSIDE, theta_w, phi_w)"
   ]
  },
  {
   "cell_type": "code",
   "execution_count": 10,
   "metadata": {
    "collapsed": true
   },
   "outputs": [],
   "source": [
    "n = np.arange(hp.nside2npix(NSIDE))"
   ]
  },
  {
   "cell_type": "code",
   "execution_count": 11,
   "metadata": {
    "collapsed": false
   },
   "outputs": [],
   "source": [
    "rpix = hp.ang2pix(NSIDE, theta_r, phi_r)"
   ]
  },
  {
   "cell_type": "code",
   "execution_count": 12,
   "metadata": {
    "collapsed": false
   },
   "outputs": [],
   "source": [
    "m = np.arange(hp.nside2npix(NSIDE))"
   ]
  },
  {
   "cell_type": "code",
   "execution_count": 13,
   "metadata": {
    "collapsed": false
   },
   "outputs": [
    {
     "name": "stdout",
     "output_type": "stream",
     "text": [
      "196608\n",
      "196608\n"
     ]
    }
   ],
   "source": [
    "print(hp.get_map_size(m))\n",
    "print(hp.get_map_size(n))"
   ]
  },
  {
   "cell_type": "code",
   "execution_count": 14,
   "metadata": {
    "collapsed": false
   },
   "outputs": [
    {
     "name": "stdout",
     "output_type": "stream",
     "text": [
      "[ 53332  27002 100377 ...,  20402  30222  72641] DEJ2000\n",
      "-------\n",
      "  45312\n",
      "  89344\n",
      "  47360\n",
      "  46336\n",
      "  93440\n",
      " 103680\n",
      "  40192\n",
      "  71936\n",
      "  60672\n",
      "  81152\n",
      "    ...\n",
      " 114944\n",
      "  75008\n",
      " 111872\n",
      "  92416\n",
      "  48384\n",
      " 116992\n",
      "  60671\n",
      "  75008\n",
      "  96512\n",
      "  61696\n",
      " 103680\n",
      "Length = 132684 rows\n"
     ]
    }
   ],
   "source": [
    "print rpix, wpix"
   ]
  },
  {
   "cell_type": "code",
   "execution_count": 15,
   "metadata": {
    "collapsed": false
   },
   "outputs": [
    {
     "name": "stdout",
     "output_type": "stream",
     "text": [
      "132684\n",
      "26111\n"
     ]
    }
   ],
   "source": [
    "print len(wpix)\n",
    "print len(rpix)"
   ]
  },
  {
   "cell_type": "markdown",
   "metadata": {},
   "source": [
    "Codigo do Match:\n",
    "Primeira parte designa-se uma lista onde sera salvo os valores do match. E dois intervalos, um com o valor do rykoff e outro do wen.\n",
    "Depois com uso do if, se compara o numero do pixel de um catalogo com o de outro, para assim obtermos o match."
   ]
  },
  {
   "cell_type": "code",
   "execution_count": 16,
   "metadata": {
    "collapsed": false,
    "scrolled": true
   },
   "outputs": [],
   "source": [
    "lista = []\n",
    "rp = range(0,26111)\n",
    "wp = range(0,132684)\n",
    "for wp in wpix: \n",
    "    for rp in rpix:\n",
    "        if wp==rp:\n",
    "            lista.append(wp)"
   ]
  },
  {
   "cell_type": "code",
   "execution_count": 17,
   "metadata": {
    "collapsed": false
   },
   "outputs": [
    {
     "name": "stdout",
     "output_type": "stream",
     "text": [
      "90390\n"
     ]
    }
   ],
   "source": [
    "print len(lista) "
   ]
  },
  {
   "cell_type": "code",
   "execution_count": 18,
   "metadata": {
    "collapsed": false
   },
   "outputs": [],
   "source": [
    "# Retira os numeros de pixels repetidos\n",
    "lista = list(set(lista))"
   ]
  },
  {
   "cell_type": "code",
   "execution_count": 19,
   "metadata": {
    "collapsed": false
   },
   "outputs": [
    {
     "name": "stdout",
     "output_type": "stream",
     "text": [
      "18958\n"
     ]
    }
   ],
   "source": [
    "print len(lista)"
   ]
  },
  {
   "cell_type": "code",
   "execution_count": 20,
   "metadata": {
    "collapsed": false
   },
   "outputs": [],
   "source": [
    "# Aglomerados do wen que estao no match\n",
    "lista_w = []\n",
    "for i in range(len(wpix)):\n",
    "    if wpix[i] in lista:\n",
    "        lista_w.append(i)      "
   ]
  },
  {
   "cell_type": "code",
   "execution_count": 21,
   "metadata": {
    "collapsed": false
   },
   "outputs": [
    {
     "name": "stdout",
     "output_type": "stream",
     "text": [
      "60425\n"
     ]
    }
   ],
   "source": [
    "print len(lista_w)"
   ]
  },
  {
   "cell_type": "code",
   "execution_count": 22,
   "metadata": {
    "collapsed": false
   },
   "outputs": [],
   "source": [
    "# Aglomerados do rykoff que estao no match\n",
    "lista_r = []\n",
    "for i in range(len(rpix)):\n",
    "    if rpix[i] in lista:\n",
    "        lista_r.append(i) "
   ]
  },
  {
   "cell_type": "code",
   "execution_count": 23,
   "metadata": {
    "collapsed": false
   },
   "outputs": [
    {
     "name": "stdout",
     "output_type": "stream",
     "text": [
      "25791\n"
     ]
    }
   ],
   "source": [
    "print len(lista_r)"
   ]
  },
  {
   "cell_type": "code",
   "execution_count": 24,
   "metadata": {
    "collapsed": false
   },
   "outputs": [],
   "source": [
    "match = hp.pix2ang(NSIDE, lista)"
   ]
  },
  {
   "cell_type": "code",
   "execution_count": 25,
   "metadata": {
    "collapsed": false
   },
   "outputs": [
    {
     "name": "stdout",
     "output_type": "stream",
     "text": [
      "(array([ 0.84106867,  1.57079633,  1.57079633, ...,  1.57079633,\n",
      "        1.23095942,  1.23095942]), array([ 3.14772858,  3.14772858,  3.17227227, ...,  3.11091304,\n",
      "        3.12318488,  3.13545673]))\n",
      "[ 0.84106867  1.57079633  1.57079633 ...,  1.57079633  1.23095942\n",
      "  1.23095942]\n"
     ]
    }
   ],
   "source": [
    "print match\n",
    "print match[0]"
   ]
  },
  {
   "cell_type": "code",
   "execution_count": 26,
   "metadata": {
    "collapsed": false
   },
   "outputs": [],
   "source": [
    "match = match[0]"
   ]
  },
  {
   "cell_type": "code",
   "execution_count": 27,
   "metadata": {
    "collapsed": true
   },
   "outputs": [],
   "source": [
    "w_pix = hp.pix2ang(NSIDE,wpix)\n",
    "r_pix = hp.pix2ang(NSIDE,rpix)"
   ]
  },
  {
   "cell_type": "code",
   "execution_count": 28,
   "metadata": {
    "collapsed": false
   },
   "outputs": [],
   "source": [
    "w_pix = w_pix[0]\n",
    "r_pix = r_pix[0]"
   ]
  },
  {
   "cell_type": "code",
   "execution_count": 29,
   "metadata": {
    "collapsed": false
   },
   "outputs": [
    {
     "data": {
      "text/plain": [
       "<matplotlib.legend.Legend at 0x11221ae10>"
      ]
     },
     "execution_count": 29,
     "metadata": {},
     "output_type": "execute_result"
    },
    {
     "data": {
      "image/png": "[encoded data removed]",
      "text/plain": [
       "<matplotlib.figure.Figure at 0x103a59d90>"
      ]
     },
     "metadata": {},
     "output_type": "display_data"
    }
   ],
   "source": [
    "x = w_pix\n",
    "y = match\n",
    "z = r_pix\n",
    "plt.hist(x, label = 'Wen', range = [0, 2.0])\n",
    "plt.hist(y, label = 'Match', alpha = 0.5, range = [0, 2.0], color = 'y')\n",
    "plt.hist(z, label = 'Rykoff', alpha = 0.5, range = [0, 2.0], color = 'r')\n",
    "plt.title('Aglomerados', fontsize='20')\n",
    "plt.legend(loc = 2)"
   ]
  }
 ],
 "metadata": {
  "kernelspec": {
   "display_name": "Python 2",
   "language": "python",
   "name": "python2"
  },
  "language_info": {
   "codemirror_mode": {
    "name": "ipython",
    "version": 2
   },
   "file_extension": ".py",
   "mimetype": "text/x-python",
   "name": "python",
   "nbconvert_exporter": "python",
   "pygments_lexer": "ipython2",
   "version": "2.7.11"
  }
 },
 "nbformat": 4,
 "nbformat_minor": 0
}
