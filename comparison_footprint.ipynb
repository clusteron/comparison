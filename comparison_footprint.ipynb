{
 "cells": [
  {
   "cell_type": "code",
   "execution_count": 4,
   "metadata": {
    "collapsed": true
   },
   "outputs": [],
   "source": [
    "import numpy as np\n",
    "import healpy as hp\n",
    "from astropy.io import ascii\n",
    "from astropy.io import fits\n",
    "import matplotlib.pyplot as plt\n",
    "from astropy.table import Table\n",
    "from astropy.table import Table, Column\n",
    "%matplotlib inline"
   ]
  },
  {
   "cell_type": "code",
   "execution_count": 5,
   "metadata": {
    "collapsed": false
   },
   "outputs": [
    {
     "name": "stdout",
     "output_type": "stream",
     "text": [
      "Reading files\n",
      "Wen: 132684\n",
      "Rykoff: 26111\n",
      "Koester: 13823\n",
      "Wzap: 18089\n"
     ]
    }
   ],
   "source": [
    "print 'Reading files'\n",
    "w = Table.read('wen.csv') \n",
    "r = Table.read('redmapper.fits') \n",
    "k = Table.read('koester2007.vot', format='votable')\n",
    "wz = Table.read('wazp.fits')\n",
    "print 'Wen:',len(w)\n",
    "print 'Rykoff:',len(r)\n",
    "print 'Koester:', len(k)\n",
    "print 'Wzap:', len(wz)"
   ]
  },
  {
   "cell_type": "code",
   "execution_count": 6,
   "metadata": {
    "collapsed": true
   },
   "outputs": [],
   "source": [
    "NSIDE = 32"
   ]
  },
  {
   "cell_type": "code",
   "execution_count": 7,
   "metadata": {
    "collapsed": true
   },
   "outputs": [],
   "source": [
    "# Phi e theta do Wen\n",
    "phi_w = np.deg2rad(w['RAJ2000'])\n",
    "theta_w = np.deg2rad(90.-w['DEJ2000'])"
   ]
  },
  {
   "cell_type": "code",
   "execution_count": 8,
   "metadata": {
    "collapsed": true
   },
   "outputs": [],
   "source": [
    "#Phi e theta do Rykoff\n",
    "phi_r = np.deg2rad(r['RA'])\n",
    "theta_r = np.deg2rad(90.-r['DEC'])"
   ]
  },
  {
   "cell_type": "code",
   "execution_count": 9,
   "metadata": {
    "collapsed": true
   },
   "outputs": [],
   "source": [
    "#Phi e theta do Koester\n",
    "phi_k = np.deg2rad(k['RAJ2000'])\n",
    "theta_k = np.deg2rad(90.-k['DEJ2000'])"
   ]
  },
  {
   "cell_type": "code",
   "execution_count": 10,
   "metadata": {
    "collapsed": true
   },
   "outputs": [],
   "source": [
    "#Phi e theta do Wzap\n",
    "phi_wz = np.deg2rad(wz['ra_init'])\n",
    "theta_wz = np.deg2rad(90.-wz['dec_init'])"
   ]
  },
  {
   "cell_type": "code",
   "execution_count": 11,
   "metadata": {
    "collapsed": true
   },
   "outputs": [],
   "source": [
    "# Pixels do Wen\n",
    "wpix = hp.ang2pix(NSIDE, theta_w, phi_w)"
   ]
  },
  {
   "cell_type": "code",
   "execution_count": 12,
   "metadata": {
    "collapsed": true
   },
   "outputs": [],
   "source": [
    "# Pixels do Rykoff\n",
    "rpix = hp.ang2pix(NSIDE, theta_r, phi_r)"
   ]
  },
  {
   "cell_type": "code",
   "execution_count": 13,
   "metadata": {
    "collapsed": true
   },
   "outputs": [],
   "source": [
    "#Pixels do Koester\n",
    "kpix = hp.ang2pix(NSIDE, theta_k, phi_k)"
   ]
  },
  {
   "cell_type": "code",
   "execution_count": 14,
   "metadata": {
    "collapsed": true
   },
   "outputs": [],
   "source": [
    "#Pixels do Wzap\n",
    "wzpix = hp.ang2pix(NSIDE, theta_wz, phi_wz)"
   ]
  },
  {
   "cell_type": "code",
   "execution_count": 15,
   "metadata": {
    "collapsed": false
   },
   "outputs": [
    {
     "name": "stdout",
     "output_type": "stream",
     "text": [
      "132684 4900\n",
      "26111 3288\n",
      "13823 2379\n",
      "18089 89\n"
     ]
    }
   ],
   "source": [
    "#Retira os numeros de pixels repetidos\n",
    "uwpix = np.unique(wpix)\n",
    "urpix = np.unique(rpix)\n",
    "ukpix = np.unique(kpix)\n",
    "uwzpix = np.unique(wzpix)\n",
    "print len(wpix), len(uwpix)\n",
    "print len(rpix), len(urpix)\n",
    "print len(kpix), len(ukpix)\n",
    "print len(wzpix), len(uwzpix)"
   ]
  },
  {
   "cell_type": "code",
   "execution_count": 19,
   "metadata": {
    "collapsed": false
   },
   "outputs": [],
   "source": [
    "# Match de wpix com rpix\n",
    "lista = []\n",
    "for wp in uwpix: \n",
    "    for rp in urpix:\n",
    "        if wp==rp:\n",
    "            lista.append(wp)"
   ]
  },
  {
   "cell_type": "code",
   "execution_count": 20,
   "metadata": {
    "collapsed": false
   },
   "outputs": [
    {
     "name": "stdout",
     "output_type": "stream",
     "text": [
      "3288\n"
     ]
    }
   ],
   "source": [
    "print len(lista)"
   ]
  },
  {
   "cell_type": "code",
   "execution_count": 24,
   "metadata": {
    "collapsed": true
   },
   "outputs": [],
   "source": [
    "#Match da lista com o kpix\n",
    "lista_m = []\n",
    "for kp in ukpix:\n",
    "    for lp in lista:\n",
    "        if lp==kp:\n",
    "            lista_m.append(kp)"
   ]
  },
  {
   "cell_type": "code",
   "execution_count": 25,
   "metadata": {
    "collapsed": false
   },
   "outputs": [
    {
     "name": "stdout",
     "output_type": "stream",
     "text": [
      "2311\n"
     ]
    }
   ],
   "source": [
    "print len(lista_m)"
   ]
  },
  {
   "cell_type": "code",
   "execution_count": 26,
   "metadata": {
    "collapsed": false
   },
   "outputs": [],
   "source": [
    "#Match da lista com o kpix\n",
    "lista_match = []\n",
    "for wzp in uwzpix:\n",
    "    for lm in lista_m:\n",
    "        if lm==wzp:\n",
    "            lista_match.append(wzp)"
   ]
  },
  {
   "cell_type": "code",
   "execution_count": 28,
   "metadata": {
    "collapsed": false
   },
   "outputs": [
    {
     "name": "stdout",
     "output_type": "stream",
     "text": [
      "51\n"
     ]
    }
   ],
   "source": [
    "print len(lista_match)"
   ]
  },
  {
   "cell_type": "code",
   "execution_count": 45,
   "metadata": {
    "collapsed": true
   },
   "outputs": [],
   "source": [
    "#sysmap = np.zeros(hp.nside2npix(NSIDE),dtype=np.float32) +hp.UNSEEN\n",
    "mmap = np.zeros(hp.nside2npix(NSIDE), dtype=np.int8) + hp.UNSEEN\n",
    "wmap = np.zeros(hp.nside2npix(NSIDE), dtype=np.int8) + hp.UNSEEN\n",
    "rmap = np.zeros(hp.nside2npix(NSIDE), dtype=np.int8) + hp.UNSEEN\n",
    "kmap = np.zeros(hp.nside2npix(NSIDE), dtype=np.int8) + hp.UNSEEN\n",
    "wzmap = np.zeros(hp.nside2npix(NSIDE), dtype=np.int8) + hp.UNSEEN"
   ]
  },
  {
   "cell_type": "code",
   "execution_count": 46,
   "metadata": {
    "collapsed": true
   },
   "outputs": [],
   "source": [
    "wmap[wpix] = 1\n",
    "rmap[rpix] = 1\n",
    "kmap[kpix] = 1 \n",
    "wzmap[wzpix] = 1\n",
    "mmap[lista_match] = 1"
   ]
  },
  {
   "cell_type": "code",
   "execution_count": 47,
   "metadata": {
    "collapsed": false,
    "scrolled": false
   },
   "outputs": [
    {
     "data": {
      "image/png": "[encoded data removed]",
      "text/plain": [
       "<matplotlib.figure.Figure at 0xab9609cc>"
      ]
     },
     "metadata": {},
     "output_type": "display_data"
    },
    {
     "data": {
      "image/png": "[encoded data removed]",
      "text/plain": [
       "<matplotlib.figure.Figure at 0xacc963ac>"
      ]
     },
     "metadata": {},
     "output_type": "display_data"
    },
    {
     "data": {
      "image/png": "[encoded data removed]",
      "text/plain": [
       "<matplotlib.figure.Figure at 0xab787d4c>"
      ]
     },
     "metadata": {},
     "output_type": "display_data"
    },
    {
     "data": {
      "image/png": "[encoded data removed]",
      "text/plain": [
       "<matplotlib.figure.Figure at 0xac12584c>"
      ]
     },
     "metadata": {},
     "output_type": "display_data"
    },
    {
     "data": {
      "image/png": "[encoded data removed]",
      "text/plain": [
       "<matplotlib.figure.Figure at 0xac11bdcc>"
      ]
     },
     "metadata": {},
     "output_type": "display_data"
    }
   ],
   "source": [
    "hp.mollview(wmap, fig=1, cmap='jet')\n",
    "hp.mollview(rmap, fig=2, cmap='jet')\n",
    "hp.mollview(kmap, fig=3, cmap='jet')\n",
    "hp.mollview(wzmap, fig=4, cmap='jet')\n",
    "hp.mollview(mmap, fig=5, cmap='jet')"
   ]
  },
  {
   "cell_type": "code",
   "execution_count": 48,
   "metadata": {
    "collapsed": true
   },
   "outputs": [],
   "source": [
    "# wen\n",
    "mask_w = np.zeros(len(wpix), int)\n",
    "goodies = np.array(lista_match)\n",
    "for i,wp in enumerate(wpix):\n",
    "    for good in goodies:\n",
    "        if wp == good:\n",
    "            mask_w[i] = 1"
   ]
  },
  {
   "cell_type": "code",
   "execution_count": 49,
   "metadata": {
    "collapsed": false
   },
   "outputs": [
    {
     "name": "stdout",
     "output_type": "stream",
     "text": [
      "[0 0 0 ..., 1 0 0]\n",
      "132684 1805\n"
     ]
    }
   ],
   "source": [
    "print mask_w\n",
    "print len(mask_w), sum(mask_w)"
   ]
  },
  {
   "cell_type": "code",
   "execution_count": 50,
   "metadata": {
    "collapsed": false
   },
   "outputs": [
    {
     "name": "stdout",
     "output_type": "stream",
     "text": [
      "1805\n"
     ]
    }
   ],
   "source": [
    "# Vai adicinar a nova lista apenas os indices que contém 1 (goodies matches)\n",
    "match_iw = []\n",
    "for i in range(0,len(mask_w)):\n",
    "    if mask_w[i]!=0:\n",
    "        match_iw.append(i)\n",
    "print len(match_iw)"
   ]
  },
  {
   "cell_type": "code",
   "execution_count": 51,
   "metadata": {
    "collapsed": true
   },
   "outputs": [],
   "source": [
    "# Aplicando os indices no wen\n",
    "new_w = w[match_iw]"
   ]
  },
  {
   "cell_type": "code",
   "execution_count": 52,
   "metadata": {
    "collapsed": true
   },
   "outputs": [],
   "source": [
    "# rykoff\n",
    "mask_r = np.zeros(len(rpix), int)\n",
    "goodies = np.array(lista_match)\n",
    "for i,rp in enumerate(rpix):\n",
    "    for good in goodies:\n",
    "        if rp == good:\n",
    "            mask_r[i] = 1"
   ]
  },
  {
   "cell_type": "code",
   "execution_count": 53,
   "metadata": {
    "collapsed": false
   },
   "outputs": [
    {
     "name": "stdout",
     "output_type": "stream",
     "text": [
      "[0 0 0 ..., 0 0 0]\n",
      "26111 497\n"
     ]
    }
   ],
   "source": [
    "print mask_r\n",
    "print len(mask_r), sum(mask_r)"
   ]
  },
  {
   "cell_type": "code",
   "execution_count": 54,
   "metadata": {
    "collapsed": false
   },
   "outputs": [
    {
     "name": "stdout",
     "output_type": "stream",
     "text": [
      "497\n"
     ]
    }
   ],
   "source": [
    "# Vai adicinar a nova lista apenas os indices que contém 1 (goodies matches)\n",
    "match_ir = []\n",
    "for i in range(0,len(mask_r)):\n",
    "    if mask_r[i]!=0:\n",
    "        match_ir.append(i)\n",
    "print len(match_ir)"
   ]
  },
  {
   "cell_type": "code",
   "execution_count": 55,
   "metadata": {
    "collapsed": true
   },
   "outputs": [],
   "source": [
    "# Aplicando os indices no rykoff\n",
    "new_r = r[match_ir]"
   ]
  },
  {
   "cell_type": "code",
   "execution_count": 56,
   "metadata": {
    "collapsed": true
   },
   "outputs": [],
   "source": [
    "# koester\n",
    "mask_k = np.zeros(len(kpix), int)\n",
    "goodies = np.array(lista_match)\n",
    "for i,kp in enumerate(kpix):\n",
    "    for good in goodies:\n",
    "        if kp == good:\n",
    "            mask_k[i] = 1"
   ]
  },
  {
   "cell_type": "code",
   "execution_count": 57,
   "metadata": {
    "collapsed": false
   },
   "outputs": [
    {
     "name": "stdout",
     "output_type": "stream",
     "text": [
      "[0 0 0 ..., 0 0 0]\n",
      "13823 260\n"
     ]
    }
   ],
   "source": [
    "print mask_k\n",
    "print len(mask_k), sum(mask_k)"
   ]
  },
  {
   "cell_type": "code",
   "execution_count": 58,
   "metadata": {
    "collapsed": false
   },
   "outputs": [
    {
     "name": "stdout",
     "output_type": "stream",
     "text": [
      "260\n"
     ]
    }
   ],
   "source": [
    "# Vai adicinar a nova lista apenas os indices que contém 1 (goodies matches)\n",
    "match_ik = []\n",
    "for i in range(0,len(mask_k)):\n",
    "    if mask_k[i]!=0:\n",
    "        match_ik.append(i)\n",
    "print len(match_ik)"
   ]
  },
  {
   "cell_type": "code",
   "execution_count": 59,
   "metadata": {
    "collapsed": true
   },
   "outputs": [],
   "source": [
    "# Aplicando os indices no koester\n",
    "new_k = k[match_ik]"
   ]
  },
  {
   "cell_type": "code",
   "execution_count": 61,
   "metadata": {
    "collapsed": false
   },
   "outputs": [],
   "source": [
    "# wazp\n",
    "mask_wz = np.zeros(len(wzpix), int)\n",
    "goodies = np.array(lista_match)\n",
    "for i,wzp in enumerate(wzpix):\n",
    "    for good in goodies:\n",
    "        if wzp == good:\n",
    "            mask_wz[i] = 1"
   ]
  },
  {
   "cell_type": "code",
   "execution_count": 62,
   "metadata": {
    "collapsed": false
   },
   "outputs": [
    {
     "name": "stdout",
     "output_type": "stream",
     "text": [
      "[1 1 1 ..., 0 0 0]\n",
      "18089 15880\n"
     ]
    }
   ],
   "source": [
    "print mask_wz\n",
    "print len(mask_wz), sum(mask_wz)"
   ]
  },
  {
   "cell_type": "code",
   "execution_count": 63,
   "metadata": {
    "collapsed": false
   },
   "outputs": [
    {
     "name": "stdout",
     "output_type": "stream",
     "text": [
      "15880\n"
     ]
    }
   ],
   "source": [
    "# Vai adicinar a nova lista apenas os indices que contém 1 (goodies matches)\n",
    "match_iwz = []\n",
    "for i in range(0,len(mask_wz)):\n",
    "    if mask_wz[i]!=0:\n",
    "        match_iwz.append(i)\n",
    "print len(match_iwz)"
   ]
  },
  {
   "cell_type": "code",
   "execution_count": 65,
   "metadata": {
    "collapsed": false
   },
   "outputs": [],
   "source": [
    "# Aplicando os indices no wazp\n",
    "new_wz = wz[match_iwz]"
   ]
  },
  {
   "cell_type": "code",
   "execution_count": 67,
   "metadata": {
    "collapsed": false
   },
   "outputs": [],
   "source": [
    "new_w.write('new_wen.fits', format='fits')"
   ]
  },
  {
   "cell_type": "code",
   "execution_count": 68,
   "metadata": {
    "collapsed": true
   },
   "outputs": [],
   "source": [
    "new_r.write('new_rykoff.fits', format='fits')"
   ]
  },
  {
   "cell_type": "code",
   "execution_count": 69,
   "metadata": {
    "collapsed": false
   },
   "outputs": [
    {
     "name": "stderr",
     "output_type": "stream",
     "text": [
      "WARNING: VerifyWarning: Keyword name u'description' is greater than 8 characters or contains characters not allowed by the FITS standard; a HIERARCH card will be created. [astropy.io.fits.card]\n"
     ]
    }
   ],
   "source": [
    "new_k.write('new_koester.fits', format='fits')"
   ]
  },
  {
   "cell_type": "code",
   "execution_count": 70,
   "metadata": {
    "collapsed": true
   },
   "outputs": [],
   "source": [
    "new_wz.write('new_wazp.fits', format='fits')"
   ]
  }
 ],
 "metadata": {
  "kernelspec": {
   "display_name": "Python 2",
   "language": "python",
   "name": "python2"
  },
  "language_info": {
   "codemirror_mode": {
    "name": "ipython",
    "version": 2
   },
   "file_extension": ".py",
   "mimetype": "text/x-python",
   "name": "python",
   "nbconvert_exporter": "python",
   "pygments_lexer": "ipython2",
   "version": "2.7.13"
  }
 },
 "nbformat": 4,
 "nbformat_minor": 0
}
