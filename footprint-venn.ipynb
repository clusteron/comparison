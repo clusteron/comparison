{
 "cells": [
  {
   "cell_type": "markdown",
   "metadata": {},
   "source": [
    "# Match 2D"
   ]
  },
  {
   "cell_type": "code",
   "execution_count": 1,
   "metadata": {
    "collapsed": true
   },
   "outputs": [],
   "source": [
    "import numpy as np\n",
    "import healpy as hp\n",
    "from astropy.io import ascii\n",
    "from astropy.io import fits\n",
    "import matplotlib.pyplot as plt\n",
    "from astropy.table import Table\n",
    "from astropy.table import Table, Column\n",
    "from matplotlib_venn import venn2\n",
    "from matplotlib_venn import venn3, venn3_circles\n",
    "%matplotlib inline"
   ]
  },
  {
   "cell_type": "code",
   "execution_count": 94,
   "metadata": {
    "collapsed": false
   },
   "outputs": [
    {
     "name": "stdout",
     "output_type": "stream",
     "text": [
      "Reading files\n",
      "Wen: 132684\n",
      "Rykoff: 26111\n",
      "Koester: 13823\n"
     ]
    }
   ],
   "source": [
    "print 'Reading files'\n",
    "w = Table.read('wen.csv', format='csv') \n",
    "r = Table.read('redmapper.fits') \n",
    "k = Table.read('koester2007.vot', format='votable')\n",
    "\n",
    "print 'Wen:',len(w)\n",
    "print 'Rykoff:',len(r)\n",
    "print 'Koester:', len(k)"
   ]
  },
  {
   "cell_type": "code",
   "execution_count": 95,
   "metadata": {
    "collapsed": true
   },
   "outputs": [],
   "source": [
    "# RA e DEC catalogo Wen\n",
    "#print w['RAJ2000'], w['DEJ2000']\n",
    "\n",
    "# RA e DEC catalogo Redmapper\n",
    "#print r['RA'], r['DEC']\n",
    "\n",
    "# RA e DEC catalogo Koester\n",
    "#print k['RAJ2000'], k['DEJ2000']"
   ]
  },
  {
   "cell_type": "code",
   "execution_count": 96,
   "metadata": {
    "collapsed": true
   },
   "outputs": [],
   "source": [
    "NSIDE = 32"
   ]
  },
  {
   "cell_type": "code",
   "execution_count": 115,
   "metadata": {
    "collapsed": true
   },
   "outputs": [],
   "source": [
    "# Phi e theta do Wen\n",
    "phi_w = np.deg2rad(w['RAJ2000'])\n",
    "theta_w = np.deg2rad(90.-w['DEJ2000'])"
   ]
  },
  {
   "cell_type": "code",
   "execution_count": 116,
   "metadata": {
    "collapsed": true
   },
   "outputs": [],
   "source": [
    "#Phi e theta do Rykoff\n",
    "phi_r = np.deg2rad(r['RA'])\n",
    "theta_r = np.deg2rad(90.-r['DEC'])"
   ]
  },
  {
   "cell_type": "code",
   "execution_count": 117,
   "metadata": {
    "collapsed": true
   },
   "outputs": [],
   "source": [
    "#Phi e theta do Koester\n",
    "phi_k = np.deg2rad(k['RAJ2000'])\n",
    "theta_k = np.deg2rad(90.-k['DEJ2000'])"
   ]
  },
  {
   "cell_type": "code",
   "execution_count": 118,
   "metadata": {
    "collapsed": true
   },
   "outputs": [],
   "source": [
    "# Pixels do Wen\n",
    "wpix = hp.ang2pix(NSIDE, theta_w, phi_w)\n",
    "n = np.arange(hp.nside2npix(NSIDE))"
   ]
  },
  {
   "cell_type": "code",
   "execution_count": 119,
   "metadata": {
    "collapsed": true
   },
   "outputs": [],
   "source": [
    "# Pixels do Rykoff\n",
    "rpix = hp.ang2pix(NSIDE, theta_r, phi_r)\n",
    "m = np.arange(hp.nside2npix(NSIDE))"
   ]
  },
  {
   "cell_type": "code",
   "execution_count": 120,
   "metadata": {
    "collapsed": true
   },
   "outputs": [],
   "source": [
    "#Pixels do Koester\n",
    "kpix = hp.ang2pix(NSIDE,theta_k, phi_k)\n",
    "l = np.arange(hp.nside2npix(NSIDE))"
   ]
  },
  {
   "cell_type": "code",
   "execution_count": 121,
   "metadata": {
    "collapsed": false
   },
   "outputs": [
    {
     "name": "stdout",
     "output_type": "stream",
     "text": [
      "12288\n",
      "12288\n",
      "12288\n"
     ]
    }
   ],
   "source": [
    "print(hp.get_map_size(m))\n",
    "print(hp.get_map_size(n))\n",
    "print(hp.get_map_size(l))"
   ]
  },
  {
   "cell_type": "code",
   "execution_count": 122,
   "metadata": {
    "collapsed": false
   },
   "outputs": [
    {
     "name": "stdout",
     "output_type": "stream",
     "text": [
      "132684\n",
      "26111\n",
      "13823\n"
     ]
    }
   ],
   "source": [
    "print len(wpix)\n",
    "print len(rpix)\n",
    "print len(kpix)"
   ]
  },
  {
   "cell_type": "code",
   "execution_count": 123,
   "metadata": {
    "collapsed": false
   },
   "outputs": [
    {
     "name": "stdout",
     "output_type": "stream",
     "text": [
      "4900\n",
      "3288\n",
      "2379\n"
     ]
    }
   ],
   "source": [
    "#Retira os numeros de pixels repetidos\n",
    "uwpix = np.unique(wpix)\n",
    "urpix = np.unique(rpix)\n",
    "ukpix = np.unique(kpix)\n",
    "print len(uwpix)\n",
    "print len(urpix)\n",
    "print len(ukpix)"
   ]
  },
  {
   "cell_type": "code",
   "execution_count": 124,
   "metadata": {
    "collapsed": false
   },
   "outputs": [
    {
     "name": "stdout",
     "output_type": "stream",
     "text": [
      "172618\n",
      "4900\n"
     ]
    }
   ],
   "source": [
    "allpix = wpix.data.tolist()\n",
    "allpix.extend(rpix.data.tolist())\n",
    "allpix.extend(kpix.data.tolist())\n",
    "print len(allpix)\n",
    "allpix = np.unique(np.array(allpix))\n",
    "print len(allpix)\n"
   ]
  },
  {
   "cell_type": "code",
   "execution_count": 125,
   "metadata": {
    "collapsed": true
   },
   "outputs": [],
   "source": [
    "# Match de wpix com rpix\n",
    "lista = []\n",
    "#rp = range(0,len(rpix))\n",
    "#wp = range(0,len(wpix))\n",
    "for wp in uwpix: \n",
    "    for rp in urpix:\n",
    "        if wp==rp:\n",
    "            lista.append(wp)"
   ]
  },
  {
   "cell_type": "code",
   "execution_count": 126,
   "metadata": {
    "collapsed": false
   },
   "outputs": [
    {
     "name": "stdout",
     "output_type": "stream",
     "text": [
      "3288\n"
     ]
    }
   ],
   "source": [
    "print len(lista)"
   ]
  },
  {
   "cell_type": "code",
   "execution_count": 127,
   "metadata": {
    "collapsed": false
   },
   "outputs": [],
   "source": [
    "#Match da lista com o kpix\n",
    "lista_m = []\n",
    "#kp = range(0,len(kpix))\n",
    "#lp = range(0,len(lista))\n",
    "for kp in ukpix:\n",
    "    for lp in lista:\n",
    "        if lp==kp:\n",
    "            lista_m.append(kp)"
   ]
  },
  {
   "cell_type": "code",
   "execution_count": 128,
   "metadata": {
    "collapsed": false
   },
   "outputs": [
    {
     "name": "stdout",
     "output_type": "stream",
     "text": [
      "2311\n"
     ]
    }
   ],
   "source": [
    "print len(lista_m)"
   ]
  },
  {
   "cell_type": "code",
   "execution_count": 133,
   "metadata": {
    "collapsed": true
   },
   "outputs": [],
   "source": [
    "goodw, goodr, goodk = [], [], []\n",
    " \n",
    "for goodpix in lista_m:\n",
    "    goodw.extend(w[wpix==goodpix])\n",
    "    goodr.extend(r[rpix==goodpix])\n",
    "    goodk.extend(k[kpix==goodpix])\n",
    "            "
   ]
  },
  {
   "cell_type": "code",
   "execution_count": 135,
   "metadata": {
    "collapsed": false
   },
   "outputs": [
    {
     "name": "stdout",
     "output_type": "stream",
     "text": [
      "80917 132684\n",
      "18758 26111\n",
      "13611 13823\n"
     ]
    }
   ],
   "source": [
    "print len(goodw), len(w)\n",
    "print len(goodr), len(r)\n",
    "print len(goodk), len(k)"
   ]
  },
  {
   "cell_type": "code",
   "execution_count": 20,
   "metadata": {
    "collapsed": true
   },
   "outputs": [],
   "source": [
    "#sysmap = np.zeros(hp.nside2npix(NSIDE),dtype=np.float32) +hp.UNSEEN\n",
    "wmap = np.zeros(hp.nside2npix(NSIDE), dtype=np.int8) + hp.UNSEEN\n",
    "rmap = np.zeros(hp.nside2npix(NSIDE), dtype=np.int8) + hp.UNSEEN\n",
    "kmap = np.zeros(hp.nside2npix(NSIDE), dtype=np.int8) + hp.UNSEEN\n",
    "mmap = np.zeros(hp.nside2npix(NSIDE), dtype=np.int8) + hp.UNSEEN"
   ]
  },
  {
   "cell_type": "code",
   "execution_count": 21,
   "metadata": {
    "collapsed": true
   },
   "outputs": [],
   "source": [
    "wmap[wpix] = 1\n",
    "rmap[rpix] = 1\n",
    "kmap[kpix] = 1 \n",
    "mmap[lista_m] = 1"
   ]
  },
  {
   "cell_type": "code",
   "execution_count": 22,
   "metadata": {
    "collapsed": false
   },
   "outputs": [
    {
     "data": {
      "image/png": "[encoded data removed]",
      "text/plain": [
       "<matplotlib.figure.Figure at 0x7f3f2f98ba90>"
      ]
     },
     "metadata": {},
     "output_type": "display_data"
    },
    {
     "data": {
      "image/png": "[encoded data removed]",
      "text/plain": [
       "<matplotlib.figure.Figure at 0x7f3f219261d0>"
      ]
     },
     "metadata": {},
     "output_type": "display_data"
    },
    {
     "data": {
      "image/png": "[encoded data removed]",
      "text/plain": [
       "<matplotlib.figure.Figure at 0x7f3f27b06fd0>"
      ]
     },
     "metadata": {},
     "output_type": "display_data"
    },
    {
     "data": {
      "image/png": "[encoded data removed]",
      "text/plain": [
       "<matplotlib.figure.Figure at 0x7f3f2776cd10>"
      ]
     },
     "metadata": {},
     "output_type": "display_data"
    }
   ],
   "source": [
    "hp.mollview(wmap, fig=1, cmap='jet')\n",
    "hp.mollview(rmap, fig=2, cmap='jet')\n",
    "hp.mollview(kmap, fig=3, cmap='jet')\n",
    "hp.mollview(mmap, fig=4, cmap='jet')"
   ]
  },
  {
   "cell_type": "code",
   "execution_count": 27,
   "metadata": {
    "collapsed": false
   },
   "outputs": [
    {
     "name": "stdout",
     "output_type": "stream",
     "text": [
      "Area of final fooprint 7758\n"
     ]
    }
   ],
   "source": [
    "print 'Area of final fooprint %d'%(len(lista_m)*hp.nside2pixarea(32, degrees=True))"
   ]
  },
  {
   "cell_type": "code",
   "execution_count": 28,
   "metadata": {
    "collapsed": false
   },
   "outputs": [
    {
     "name": "stdout",
     "output_type": "stream",
     "text": [
      "\u001b[43;30mDiagrama de Venn\u001b[m\n"
     ]
    },
    {
     "data": {
      "image/png": "[encoded data removed]",
      "text/plain": [
       "<matplotlib.figure.Figure at 0x7f3f27507050>"
      ]
     },
     "metadata": {},
     "output_type": "display_data"
    }
   ],
   "source": [
    "print(\"\\033[43;30mDiagrama de Venn\\033[m\")\n",
    "Wen = set(wpix)\n",
    "Rykoff = set(rpix)\n",
    "Koester = set(kpix)\n",
    "venn3([Wen, Rykoff, Koester], ('Wen', 'Rykoff', 'Koester'))\n",
    "plt.show()"
   ]
  },
  {
   "cell_type": "code",
   "execution_count": 29,
   "metadata": {
    "collapsed": false
   },
   "outputs": [
    {
     "name": "stdout",
     "output_type": "stream",
     "text": [
      "\u001b[43;30mResultados\u001b[m\n",
      "3288\n",
      "2379\n",
      "2311\n",
      "2311\n"
     ]
    }
   ],
   "source": [
    "print(\"\\033[43;30mResultados\\033[m\")\n",
    "W_R = Wen.intersection(Rykoff)\n",
    "print len(W_R)\n",
    "\n",
    "W_K = Wen.intersection(Koester)\n",
    "print len(W_K)\n",
    "\n",
    "K_R = Koester.intersection(Rykoff)\n",
    "print len(K_R)\n",
    "\n",
    "W_R_K = Wen.intersection(Koester).intersection(Rykoff)\n",
    "print len(W_R_K)"
   ]
  },
  {
   "cell_type": "markdown",
   "metadata": {},
   "source": [
    "# MATCH 3D"
   ]
  },
  {
   "cell_type": "markdown",
   "metadata": {},
   "source": [
    "Fazer histograma z dos catalogos.\n",
    "Fazer o match de um catalogo com o outro. Usando o astropy."
   ]
  },
  {
   "cell_type": "code",
   "execution_count": 34,
   "metadata": {
    "collapsed": false
   },
   "outputs": [
    {
     "data": {
      "text/plain": [
       "0.0032784908016061202"
      ]
     },
     "execution_count": 34,
     "metadata": {},
     "output_type": "execute_result"
    }
   ],
   "source": [
    "NSIDE = 1024\n",
    "hp.nside2pixarea(NSIDE, degrees=True)"
   ]
  },
  {
   "cell_type": "code",
   "execution_count": 141,
   "metadata": {
    "collapsed": false
   },
   "outputs": [
    {
     "ename": "TypeError",
     "evalue": "list indices must be integers, not str",
     "output_type": "error",
     "traceback": [
      "\u001b[0;31m---------------------------------------------------------------------------\u001b[0m",
      "\u001b[0;31mTypeError\u001b[0m                                 Traceback (most recent call last)",
      "\u001b[0;32m<ipython-input-141-f5aadb72fa6d>\u001b[0m in \u001b[0;36m<module>\u001b[0;34m()\u001b[0m\n\u001b[1;32m      1\u001b[0m \u001b[0;31m# z do Wen, Rykoff e Koester\u001b[0m\u001b[0;34m\u001b[0m\u001b[0;34m\u001b[0m\u001b[0m\n\u001b[0;32m----> 2\u001b[0;31m \u001b[0mraw\u001b[0m \u001b[0;34m=\u001b[0m \u001b[0mgoodw\u001b[0m\u001b[0;34m[\u001b[0m\u001b[0;34m'raj2000'\u001b[0m\u001b[0;34m]\u001b[0m\u001b[0;34m\u001b[0m\u001b[0m\n\u001b[0m\u001b[1;32m      3\u001b[0m \u001b[0mdecw\u001b[0m \u001b[0;34m=\u001b[0m \u001b[0mgoodw\u001b[0m\u001b[0;34m[\u001b[0m\u001b[0;34m'dej2000'\u001b[0m\u001b[0;34m]\u001b[0m\u001b[0;34m\u001b[0m\u001b[0m\n\u001b[1;32m      4\u001b[0m \u001b[0;34m\u001b[0m\u001b[0m\n\u001b[1;32m      5\u001b[0m \u001b[0mrar\u001b[0m \u001b[0;34m=\u001b[0m \u001b[0mgoodr\u001b[0m\u001b[0;34m[\u001b[0m\u001b[0;34m'RA'\u001b[0m\u001b[0;34m]\u001b[0m\u001b[0;34m\u001b[0m\u001b[0m\n",
      "\u001b[0;31mTypeError\u001b[0m: list indices must be integers, not str"
     ]
    }
   ],
   "source": [
    "# z do Wen, Rykoff e Koester\n",
    "raw = goodw['raj2000']\n",
    "decw = goodw['dej2000']\n",
    "\n",
    "rar = goodr['ra']\n",
    "decr = goodr['dec']\n",
    "\n",
    "rak = goodk['raj2000']\n",
    "deck = goodk['dej2000']\n",
    "\n",
    "z_w = goodw['zph']\n",
    "\n",
    "z_r = goodr['z_lambda']\n",
    "\n",
    "z_k = goodk['zph']"
   ]
  },
  {
   "cell_type": "code",
   "execution_count": 37,
   "metadata": {
    "collapsed": false
   },
   "outputs": [
    {
     "name": "stdout",
     "output_type": "stream",
     "text": [
      "\u001b[43;30mWen - wpix e z\u001b[m\n",
      "132684\n"
     ]
    }
   ],
   "source": [
    "# Formatando o Wen para o Diagrama de Venn\n",
    "wpix = hp.ang2pix(NSIDE, theta_w, phi_w)\n",
    "n = np.arange(hp.nside2npix(NSIDE))\n",
    "\n",
    "print(\"\\033[43;30mWen - wpix e z\\033[m\")\n",
    "lista_wen = []\n",
    "for i in xrange(0,len(wpix)):\n",
    "    lista_wen.append('%d_%.1f'%(wpix[i], z_w[i]))\n",
    "print len(lista_wen)"
   ]
  },
  {
   "cell_type": "code",
   "execution_count": 38,
   "metadata": {
    "collapsed": false
   },
   "outputs": [
    {
     "name": "stdout",
     "output_type": "stream",
     "text": [
      "\u001b[43;30mRykoff - rpix e z\u001b[m\n",
      "26111\n"
     ]
    }
   ],
   "source": [
    "# Formatando o Rykoff para o Diagrama de Venn\n",
    "rpix = hp.ang2pix(NSIDE, theta_r, phi_r)\n",
    "n = np.arange(hp.nside2npix(NSIDE))\n",
    "\n",
    "print(\"\\033[43;30mRykoff - rpix e z\\033[m\")\n",
    "lista_rykoff = []\n",
    "for i in xrange(0,len(rpix)):\n",
    "    lista_rykoff.append('%d_%.1f'%(rpix[i], z_r[i]))\n",
    "print len(lista_rykoff)"
   ]
  },
  {
   "cell_type": "code",
   "execution_count": 39,
   "metadata": {
    "collapsed": false
   },
   "outputs": [
    {
     "name": "stdout",
     "output_type": "stream",
     "text": [
      "\u001b[43;30mKoester - kpix e z\u001b[m\n",
      "13823\n"
     ]
    }
   ],
   "source": [
    "# Formatando o Koester para o Diagrama de Venn\n",
    "kpix = hp.ang2pix(NSIDE, theta_k, phi_k)\n",
    "n = np.arange(hp.nside2npix(NSIDE))\n",
    "\n",
    "print(\"\\033[43;30mKoester - kpix e z\\033[m\")\n",
    "lista_koester = []\n",
    "for i in xrange(0,len(kpix)):\n",
    "    lista_koester.append('%d_%.1f'%(kpix[i], z_k[i]))\n",
    "print len(lista_koester)"
   ]
  },
  {
   "cell_type": "code",
   "execution_count": 144,
   "metadata": {
    "collapsed": false
   },
   "outputs": [
    {
     "name": "stdout",
     "output_type": "stream",
     "text": [
      "\u001b[43;30mDiagrama de Venn\u001b[m\n"
     ]
    },
    {
     "data": {
      "image/png": "[encoded data removed]",
      "text/plain": [
       "<matplotlib.figure.Figure at 0x7f3f0a58bbd0>"
      ]
     },
     "metadata": {},
     "output_type": "display_data"
    }
   ],
   "source": [
    "print(\"\\033[43;30mDiagrama de Venn\\033[m\")\n",
    "Wen = set(lista_wen)\n",
    "Rykoff = set(lista_rykoff)\n",
    "Koester = set(lista_koester)\n",
    "venn3([Wen, Rykoff, Koester], ('Wen', 'Rykoff', 'Koester'))\n",
    "#plt.show()\n",
    "plt.savefig('venn_nofootprint.png', dpi=300)"
   ]
  },
  {
   "cell_type": "code",
   "execution_count": null,
   "metadata": {
    "collapsed": true
   },
   "outputs": [],
   "source": []
  }
 ],
 "metadata": {
  "kernelspec": {
   "display_name": "Python 2",
   "language": "python",
   "name": "python2"
  },
  "language_info": {
   "codemirror_mode": {
    "name": "ipython",
    "version": 2
   },
   "file_extension": ".py",
   "mimetype": "text/x-python",
   "name": "python",
   "nbconvert_exporter": "python",
   "pygments_lexer": "ipython2",
   "version": "2.7.13"
  }
 },
 "nbformat": 4,
 "nbformat_minor": 2
}
