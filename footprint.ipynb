{
 "cells": [
  {
   "cell_type": "code",
   "execution_count": 1,
   "metadata": {
    "collapsed": true
   },
   "outputs": [],
   "source": [
    "import numpy as np\n",
    "from astropy.io import ascii\n",
    "from astropy.io import fits\n",
    "import matplotlib.pyplot as plt\n",
    "%matplotlib inline"
   ]
  },
  {
   "cell_type": "code",
   "execution_count": 6,
   "metadata": {
    "collapsed": false
   },
   "outputs": [
    {
     "name": "stdout",
     "output_type": "stream",
     "text": [
      "Reading files\n",
      "132684\n",
      "26111\n"
     ]
    }
   ],
   "source": [
    "print 'Reading files'\n",
    "w = ascii.read('wen.csv') \n",
    "r = fits.open('redmapper.fits') \n",
    "r = r[1].data\n",
    "print len(w)\n",
    "print len(r)"
   ]
  },
  {
   "cell_type": "code",
   "execution_count": 11,
   "metadata": {
    "collapsed": true
   },
   "outputs": [],
   "source": [
    "# RA e DEC - catalogo Wen\n",
    "#w['RAJ2000'], w['DEJ2000']\n",
    "# RA e DEC catalogo Redmapper\n",
    "#r['RA'], r['DEC']\n",
    "\n",
    "RA = w['RAJ2000']\n",
    "DEC = w['DEJ2000']\n",
    "ra = r['RA']\n",
    "dec = r['DEC']"
   ]
  },
  {
   "cell_type": "code",
   "execution_count": 10,
   "metadata": {
    "collapsed": false
   },
   "outputs": [],
   "source": [
    "def mask_from_footprint(VISIB_MASK,RA,DEC,DIR='',CTYP=''):\n",
    "    import pyfits as pf\n",
    "    import healpy as hpx\n",
    "\n",
    "    printm(DIR,\"######################################\")\n",
    "    printm(DIR,'## READING %s footprint ## '%CTYP)\n",
    "    printm(DIR,VISIB_MASK)\n",
    "    hdu = pyfits.open(VISIB_MASK)\n",
    "    data = hdu[1].data\n",
    "\n",
    "    #ra_m = data.field('ra')\n",
    "    #dec_m = data.field('dec')\n",
    "    pixel_m = data.field('pixel')\n",
    "    #signal_m = data.field('signal')\n",
    "\n",
    "    NSIDE = 4096\n",
    "\n",
    "    phi   = deg_to_rad*np.array(RA)        # phi   = RA.       Azimuthal Angle.\n",
    "    theta = deg_to_rad*np.array(90.0-DEC)  # theta = pi/4-DEC. Polar Angle.\n",
    "    pixel = hpx.pixelfunc.ang2pix(NSIDE, theta, phi, nest=False)\n",
    "\n",
    "    pix_dic = dict(np.vstack([pixel_m,pixel_m]).T)\n",
    "\n",
    "    printm(DIR,\"## creating visibility mask ##\")\n",
    "    mask_aux = np.zeros(len(RA))\n",
    "    for i,p in enumerate(pixel):\n",
    "        if p in pix_dic:\n",
    "            mask_aux[i] = 1\n",
    "\n",
    "    return (mask_aux == 1)"
   ]
  },
  {
   "cell_type": "code",
   "execution_count": 17,
   "metadata": {
    "collapsed": true
   },
   "outputs": [],
   "source": [
    "def get_nside(ra,dec,val):\n",
    "    import healpy as hpx\n",
    "\n",
    "    phi   = deg_to_rad*np.array(ra)        # phi   = RA.       Azimuthal Angle.\n",
    "    theta = deg_to_rad*np.array(90.0-dec)  # theta = pi/4-DEC. Polar Angle.\n",
    "\n",
    "    pix_dens = 0\n",
    "\n",
    "    for n in range(1,12):\n",
    "        NSIDE_USE = 2**n\n",
    "        pixel = hpx.pixelfunc.ang2pix(NSIDE_USE, theta, phi, nest=False)\n",
    "\n",
    "        hist = np.histogram(pixel,bins=range(12*NSIDE_USE**2))[0]\n",
    "        pix_dens = np.mean(hist[hist>0])\n",
    "\n",
    "        if pix_dens < val:\n",
    "            break\n",
    "\n",
    "    return NSIDE_USE, pixel"
   ]
  },
  {
   "cell_type": "code",
   "execution_count": 4,
   "metadata": {
    "collapsed": true
   },
   "outputs": [],
   "source": [
    "def create_footprint(ra, dec, hdu, FNAME, CTYP, DIR='', NSIDE=4096):\n",
    "\n",
    "    prt_title(DIR,'CREATING %s footprint'%CTYP)\n",
    "\n",
    "    import pyfits as pf\n",
    "    import healpy as hpx\n",
    "\n",
    "    # actually creates a mask with pixel density < 2\n",
    "\n",
    "    NSIDE_USE, pixel = get_nside(ra, dec, 2)\n",
    "\n",
    "    print CTYP,'FOOTPRINT NSIDE =',NSIDE_USE\n",
    "\n",
    "    # change mask to NSIDE\n",
    "\n",
    "    map0 = np.zeros(12*NSIDE_USE**2)\n",
    "    for p in set(pixel): map0[p] = 1.\n",
    "\n",
    "    map = hpx.ud_grade(map0, NSIDE)\n",
    "    pixel = np.arange(12*NSIDE**2)[ map==1. ]\n",
    "\n",
    "    # print mask\n",
    "\n",
    "    match_label = [ \"pixel\" , \"ra\"    , \"dec\"    , \"signal\"]\n",
    "    col_format  = [ \"J\", \"E\", \"E\", \"E\"]\n",
    "    columns = [pixel]\n",
    "\n",
    "    col_prt = [pyfits.Column(name=n,format=f,array=a) for n,f,a in zip(match_label,col_format,columns)]\n",
    "    cols = pyfits.ColDefs(col_prt)\n",
    "\n",
    "    printm (col_prt)\n",
    "    printm (\"cols:\\n\",cols)\n",
    "    if hasattr(pyfits.BinTableHDU, 'from_columns'):\n",
    "        tbhdu = pyfits.BinTableHDU.from_columns(cols)\n",
    "    else:\n",
    "        tbhdu = pyfits.new_table(cols)\n",
    "\n",
    "    thdulist = pyfits.HDUList([hdu[0],tbhdu])\n",
    "    os.system(\"rm -f \"+str(FNAME))\n",
    "    thdulist.writeto(FNAME)\n",
    "\n",
    "    prt_title(DIR,'CREATING %s footprint'%CTYP,end=True)\n",
    "\n",
    "    return NSIDE_USE"
   ]
  },
  {
   "cell_type": "code",
   "execution_count": 5,
   "metadata": {
    "collapsed": true
   },
   "outputs": [],
   "source": [
    "def create_all_footprints(config):\n",
    "\n",
    "    cluster = set_cat_obj(config)\n",
    "    halo = set_cat_obj(config,cluster=False)\n",
    "\n",
    "    mlims = {'r':config.RICHMIN, 'm':config.MASSMIN, 'l':config.LUMMIN}\n",
    "\n",
    "    cluster.crop_mask = np.array(crop_mask0(config,cluster.rich,cluster.ra,cluster.dec,cluster.z,mlims[cluster.mtype]))\n",
    "    halo.crop_mask = np.array(crop_mask0(config,halo.mass,halo.ra,halo.dec,halo.z,mlims[halo.mtype]))\n",
    "\n",
    "    cluster.mask_obj(cluster.crop_mask)\n",
    "    halo.mask_obj(halo.crop_mask)\n",
    "\n",
    "    FPRT_NAME = '%s_artificial_footprint.fits'\n",
    "    NSIDE = 4096\n",
    "\n",
    "    NSIDE_cl, NSIDE_h = '-', '-'\n",
    "\n",
    "    if config.CL_MASK is None:\n",
    "        config.CL_MASK = FPRT_NAME%'cluster'\n",
    "        NSIDE_cl = create_footprint(cluster.ra, cluster.dec, cluster.hdu, config.CL_MASK, 'CLUSTER', DIR=config.DIR, NSIDE=NSIDE)\n",
    "\n",
    "    if config.H_MASK is None:\n",
    "        config.H_MASK = FPRT_NAME%'halo'\n",
    "        NSIDE_h = create_footprint(halo.ra, halo.dec, halo.hdu, config.H_MASK, 'HALO', DIR=config.DIR, NSIDE=NSIDE)\n",
    "\n",
    "    f=open('../footprints_NSIDE.txt','w')\n",
    "    printm('Cluster :',NSIDE_cl,file=f)\n",
    "    printm('Halo :',NSIDE_h,file=f)\n",
    "    f.close()"
   ]
  }
 ],
 "metadata": {
  "kernelspec": {
   "display_name": "Python 2",
   "language": "python",
   "name": "python2"
  },
  "language_info": {
   "codemirror_mode": {
    "name": "ipython",
    "version": 2
   },
   "file_extension": ".py",
   "mimetype": "text/x-python",
   "name": "python",
   "nbconvert_exporter": "python",
   "pygments_lexer": "ipython2",
   "version": "2.7.13"
  }
 },
 "nbformat": 4,
 "nbformat_minor": 2
}
