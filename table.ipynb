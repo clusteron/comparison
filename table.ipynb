{
 "cells": [
  {
   "cell_type": "code",
   "execution_count": null,
   "metadata": {
    "collapsed": true
   },
   "outputs": [],
   "source": [
    "import numpy as np\n",
    "import astropy\n",
    "from astropy.io import ascii\n",
    "from astropy.io import fits\n",
    "from astropy.coordinates import SkyCoord\n",
    "from astropy import units as u\n",
    "import pylab\n",
    "from pylab import plot\n",
    "from astropy.cosmology import WMAP9 as cosmo\n",
    "from mpl_toolkits.mplot3d import Axes3D\n",
    "import matplotlib.pyplot as plt\n",
    "%matplotlib inline\n",
    "%config InlineBackend.figure_format='svg'\n",
    "%config InlineBackend.figure_format='retina'"
   ]
  },
  {
   "cell_type": "code",
   "execution_count": null,
   "metadata": {
    "collapsed": true
   },
   "outputs": [],
   "source": [
    "print 'Reading files'\n",
    "w = ascii.read('wen.csv') \n",
    "r = fits.open('redmapper.fits') \n",
    "r = r[1].data\n",
    "print len(w)\n",
    "print len(r)"
   ]
  },
  {
   "cell_type": "code",
   "execution_count": null,
   "metadata": {
    "collapsed": true
   },
   "outputs": [],
   "source": [
    "print 'catalog with values RA and DEC'\n",
    "cw = SkyCoord(ra = w['RAJ2000']*u.degree, dec = w['DEJ2000']*u.degree) \n",
    "cr = SkyCoord(ra = r['RA']*u.degree, dec = r['DEC']*u.degree) "
   ]
  },
  {
   "cell_type": "code",
   "execution_count": null,
   "metadata": {
    "collapsed": true
   },
   "outputs": [],
   "source": [
    "print 'Histograms'\n",
    "h_r = plt.hist((r['LAMBDA']), normed=True, log = True, label = 'Redmapper')\n",
    "h_r = plt.hist((w['RL*']), normed=True, log = True, label = 'Wen', alpha=0.75)\n",
    "plt.legend()\n",
    "plt.title('Richness', fontsize = '20')"
   ]
  },
  {
   "cell_type": "code",
   "execution_count": null,
   "metadata": {
    "collapsed": true
   },
   "outputs": [],
   "source": [
    "h_z = plt.hist(r['z_lambda'], normed=True, label = 'Redmapper')\n",
    "h_z = plt.hist(w['zph'], normed=True, label = 'Wen', alpha=0.75)\n",
    "plt.legend()\n",
    "plt.title('z', fontsize='20')"
   ]
  },
  {
   "cell_type": "code",
   "execution_count": null,
   "metadata": {
    "collapsed": true
   },
   "outputs": [],
   "source": [
    "print(\"\\033[43;30mSky - Code, Histograms, Plots and Macth\\033[m\")\n",
    "# indices do tamanho do catalogo originais?    \n",
    "print 'match to catalog sky'\n",
    "idwx, d2d, d3d = cw.match_to_catalog_sky(cr) \n",
    "print 'Match Wen em relacao ao Redmapper =',len(idwx)\n",
    "print idwx, d2d, d3d \n",
    "\n",
    "print 'match to catalog sky'\n",
    "idrx, d2d, d3d = cr.match_to_catalog_sky(cw) \n",
    "print 'Match Redmapper em relacao ao Wen =',len(idrx)\n",
    "print idrx, d2d, d3d "
   ]
  },
  {
   "cell_type": "code",
   "execution_count": null,
   "metadata": {
    "collapsed": true
   },
   "outputs": [],
   "source": [
    "print 'Plot ra x dec - sky'\n",
    "ra_w = w['RAJ2000']*u.deg\n",
    "dec_w = w['DEJ2000']*u.deg\n",
    "\n",
    "fig = plt.figure(1)\n",
    "ax = fig.add_subplot(111)\n",
    "ax.plot(ra_w, dec_w, 'r,', label = 'Wen')\n",
    "\n",
    "ra_r = r['RA']*u.deg \n",
    "dec_r = r['DEC']*u.deg\n",
    "\n",
    "ax.plot(ra_r, dec_r, 'b,', label = 'Redmapper', alpha=0.5)\n",
    "plt.xlabel('RA')\n",
    "plt.ylabel('DEC')\n",
    "\n",
    "ax.legend(numpoints=1)\n",
    "plt.title('Plotx Wen x Redmapper')\n",
    "#savefig('Plot-Sky.png')\n",
    "\n",
    "We need to verify the distribution of redshift and richness of both original samples and matched.\n",
    "We need to check that the match works by plotting position of matched over original (use plot limits such that you are able to discern them (zoom)).\n",
    "z vs z (matched), richness vs richness (matched)."
   ]
  },
  {
   "cell_type": "code",
   "execution_count": null,
   "metadata": {
    "collapsed": true
   },
   "outputs": [],
   "source": [
    "print 'Objects around to catalog sky'\n",
    "idxcw, idxcr, d2d, d3d = cr.search_around_sky(cw, 4*u.arcmin)\n",
    "print len(idxcw), len(idxcr)\n",
    "#print idxc_w, idxc_r, d2d, d3d \n",
    "# produzindo mais matches do que o catalogo do rykoff tem\n",
    "objw = idxcw\n",
    "objr = idxcr\n",
    "\n",
    "o_w = w[objw]\n",
    "o_r = r[objr]\n",
    "\n",
    "print len(o_w)\n",
    "print len(o_r)\n",
    "\n",
    "print 'mean and standard deviation'\n",
    "\n",
    "delta_ra = o_w['RAJ2000'] - o_r['RA']  \n",
    "delta_dec = o_w['DEJ2000'] - o_r['DEC']  \n",
    "\n",
    "media_ra = delta_ra.mean()\n",
    "media_dec = delta_dec.mean()\n",
    "\n",
    "sigma_ra = delta_ra.std()\n",
    "sigma_dec = delta_dec.std()\n",
    "\n",
    "print 'Media RA =',media_ra\n",
    "print 'Media DEC =',media_dec \n",
    "print 'Desvio Padrao RA =',sigma_ra\n",
    "print 'Desvio Padrao DEC =',sigma_dec\n",
    "\n",
    "print 'Completeness - sky'\n",
    "Red_w = w['zph']\n",
    "Red_r = r['Z_LAMBDA']\n",
    "Red_w_m = o_w['zph']\n",
    "Red_r_m = o_r ['Z_LAMBDA']\n",
    "Completeness_w = (Red_w_m[0])/(Red_w[0])\n",
    "Completeness_r = (Red_r_m[0])/(Red_r[0])\n",
    "Completeness_w_r = (Red_w_m[0]/Red_r[0])\n",
    "Completeness_r_w = (Red_r_m[0])/(Red_w[0])\n",
    "print Completeness_w, Completeness_r, Completeness_w_r, Completeness_r_w"
   ]
  },
  {
   "cell_type": "code",
   "execution_count": null,
   "metadata": {
    "collapsed": true
   },
   "outputs": [],
   "source": [
    "print ' Histogram z - Sky '\n",
    "ho_z = plt.hist(o_w['zph'], normed=True, label = 'Wen')\n",
    "ho_z = plt.hist(o_r['Z_LAMBDA'], normed=True, label = 'Redmapper', alpha=0.75)\n",
    "plt.title('z', fontsize='20')\n",
    "plt.legend()"
   ]
  },
  {
   "cell_type": "code",
   "execution_count": null,
   "metadata": {
    "collapsed": true
   },
   "outputs": [],
   "source": [
    "print 'Dados - Macth Wen/Wen:'\n",
    "\n",
    "Red_w = (w['zph'])\n",
    "Red_w_m = (o_w['zph'])\n",
    "R_W = len(Red_w)\n",
    "R_W_M = len(Red_w_m)\n",
    "print 'Wen =', R_W, 'e Match Wen =', R_W_M\n",
    "\n",
    "print 'Calculo da Completeza'\n",
    "\n",
    "Hist_w = plt.hist(Red_w, label = 'Wen', range = [0, 0.8])\n",
    "Hist_r = plt.hist(Red_r, alpha = 0.75, label = 'Rykoff', range = [0, 0.8])\n",
    "Hist_w_m = plt.hist(Red_w_m, alpha = 0.75, label = 'Wen - match', range = [0, 0.8])\n",
    "Hist_r_m = plt.hist(Red_r_m, alpha = 0.75, label = 'Rykoff - match', range = [0, 0.8])\n",
    "\n",
    "\n",
    "plt.title('Completeness', fontsize='20')\n",
    "plt.ylim(0,30000)\n",
    "plt.xlim(0, 0.9)\n",
    "plt.legend()\n",
    " "
   ]
  },
  {
   "cell_type": "code",
   "execution_count": null,
   "metadata": {
    "collapsed": true
   },
   "outputs": [],
   "source": [
    "# Hist_w contains counts, bins, and stuff...\n",
    "print len(Hist_w[0]), len(Hist_w[1])\n",
    "plt.plot(Hist_w[1][:-1], Hist_w_m[0]/Hist_w[0])\n",
    "plt.plot(Hist_w[1][:-1], Hist_r_m[0]/Hist_r[0])\n",
    "\n",
    "plt.ylim(0, 1.5)\n",
    "# isso está estranho. completeza > 1. a raiz está no match nas celulas acima. verificar.\n",
    "10 11"
   ]
  },
  {
   "cell_type": "code",
   "execution_count": null,
   "metadata": {
    "collapsed": true
   },
   "outputs": [],
   "source": [
    "print 'Dados - Macth Redmapper/Redmapper:'\n",
    "\n",
    "Red_r = (r['Z_LAMBDA'])\n",
    "Red_r_m = (o_r['Z_LAMBDA'])\n",
    "R_R = len(Red_r)\n",
    "R_R_M = len(Red_r_m)\n",
    "print 'Redmapper =', R_R, 'e Match Redmapper =', R_R_M\n",
    "\n",
    "print 'Calculo da Completeza'\n",
    "\n",
    "Hist_r = plt.hist(Red_r, label = 'z', range = [0, 0.8])\n",
    "Hist_r_m = plt.hist(Red_r_m, alpha = 0.5, label = 'z - match', range = [0, 0.8])\n",
    "plt.ylim(0,30000)\n",
    "plt.xlim(0, 0.9)\n",
    "plt.title('Completeness', fontsize='20')\n",
    "plt.legend()"
   ]
  },
  {
   "cell_type": "code",
   "execution_count": null,
   "metadata": {
    "collapsed": true
   },
   "outputs": [],
   "source": [
    "print 'Dados - Match Redmapper/Wen:'\n",
    "\n",
    "Red_w = (w['zph'])\n",
    "Red_r_m = (o_r['Z_LAMBDA'])\n",
    "R_W = len(Red_w)\n",
    "R_R_M = len(Red_r_m)\n",
    "print 'Wen =', R_W, 'e Match Redmapper =', R_R_M\n",
    "\n",
    "print 'Calculo da Completeza'\n",
    "\n",
    "Hist_w = plt.hist(Red_w, label = 'z', range = [0, 0.8])\n",
    "Hist_r_m = plt.hist(Red_r_m, alpha = 0.75, label = 'z - match', range = [0, 0.8])\n",
    "plt.ylim(0,30000)\n",
    "plt.xlim(0, 0.9)\n",
    "plt.title('Completeness', fontsize='20')\n",
    "plt.legend()"
   ]
  },
  {
   "cell_type": "code",
   "execution_count": null,
   "metadata": {
    "collapsed": true
   },
   "outputs": [],
   "source": [
    "print 'Dados - Match Wen/Redmapper:'\n",
    "\n",
    "Red_r = (r['Z_LAMBDA'])\n",
    "Red_w_m = (o_w['zph'])\n",
    "R_R = len(Red_r)\n",
    "R_W_M = len(Red_w_m)\n",
    "print 'Redmapper =', R_R, 'e Match Wen =', R_W_M\n",
    "\n",
    "print 'Calculo da Completeza'\n",
    "\n",
    "Hist_r = plt.hist(Red_r, label = 'z', range = [0, 0.8])\n",
    "Hist_w_m = plt.hist(Red_w_m, alpha = 0.5, label = 'z - match', range = [0, 0.8])\n",
    "plt.ylim(0,30000)\n",
    "plt.xlim(0, 0.9)\n",
    "plt.title('Completeness', fontsize='20')\n",
    "plt.legend()"
   ]
  },
  {
   "cell_type": "code",
   "execution_count": null,
   "metadata": {
    "collapsed": true
   },
   "outputs": [],
   "source": [
    "print 'Plot z - Sky '\n",
    "fig = plt.figure(1)\n",
    "ax = fig.add_subplot(111)\n",
    "ax.plot(o_w['zph'], o_r['Z_LAMBDA'], 'b,')\n",
    "plt.xlabel('zph')\n",
    "plt.ylabel('Z_LAMBDA')\n",
    "plt.title('z')"
   ]
  },
  {
   "cell_type": "code",
   "execution_count": null,
   "metadata": {
    "collapsed": true
   },
   "outputs": [],
   "source": [
    "fig = plt.figure(1)\n",
    "ax = fig.add_subplot(111)\n",
    "z = o_w['zph'] - o_r['Z_LAMBDA'] \n",
    "z_m = z\n",
    "media = z_m.mean()\n",
    "sigma = z_m.std()\n",
    "print 'Media =',media\n",
    "print 'Desvio Pdrao =',sigma\n",
    "ax.plot (o_w['zph'], z, 'g,')\n",
    "plt.xlim(0, 0.8)\n",
    "plt.ylabel('Z_LAMBDA - zph')\n",
    "plt.xlabel('zph')"
   ]
  },
  {
   "cell_type": "code",
   "execution_count": null,
   "metadata": {
    "collapsed": true
   },
   "outputs": [],
   "source": [
    "print 'Histogram richness - Sky'\n",
    "ho_r = plt.hist(o_r['LAMBDA'], normed=True, log=True, label='Redmapper')\n",
    "ho_r = plt.hist(o_w['RL*'], normed=True, log=True, label='Wen', alpha=0.75)\n",
    "plt.legend()\n",
    "plt.title('Richness', fontsize='20')"
   ]
  },
  {
   "cell_type": "code",
   "execution_count": null,
   "metadata": {
    "collapsed": true
   },
   "outputs": [],
   "source": [
    "print 'Plot richness - Sky'\n",
    "fig = plt.figure(1)\n",
    "ax = fig.add_subplot(111)\n",
    "ax.plot(o_w['RL*'], o_r['LAMBDA'], 'r,')\n",
    "ax.set_xscale('log')\n",
    "ax.set_yscale('log')\n",
    "plt.xlabel('RL*')\n",
    "plt.ylabel('LAMBDA')\n",
    "plt.title('Richness', fontsize = 20)\n",
    "\n",
    "idxcw, idxcr, d2d, d3d = cw.search_around_sky(cr, 4*u.arcmin)\n",
    "#print idxc_w, idxc_r, d2d, d3d "
   ]
  },
  {
   "cell_type": "code",
   "execution_count": null,
   "metadata": {
    "collapsed": true
   },
   "outputs": [],
   "source": [
    "print(\"\\033[43;30m3D - Code, Histograms, Plots and Macth\\033[m\")\n",
    "\n",
    "print 'catalog with values RA, DEC and z'\n",
    "c_w = SkyCoord(ra = w['RAJ2000']*u.deg, dec = w['DEJ2000']*u.deg, distance = cosmo.comoving_distance(w['zph'])) \n",
    "c_r = SkyCoord(ra = r['RA']*u.deg, dec = r['DEC']*u.deg, distance = cosmo.comoving_distance(r['Z_LAMBDA']))"
   ]
  },
  {
   "cell_type": "code",
   "execution_count": null,
   "metadata": {
    "collapsed": true
   },
   "outputs": [],
   "source": [
    "print 'Plot ra, dec and z - 3d'\n",
    "\n",
    "fig = plt.figure()\n",
    "ax = fig.add_subplot(111, projection='3d')\n",
    "\n",
    "x = [w['RAJ2000']]\n",
    "y = [w['DEJ2000']]\n",
    "z = [w['zph']]\n",
    "\n",
    "ax.scatter(x,z,y, c='r', marker = 'o', s=1)\n",
    "\n",
    "ax.set_xlabel('RA')\n",
    "ax.set_zlabel('DEC')\n",
    "ax.set_ylabel('z')\n",
    "ax.set_title('Wen')\n",
    "\n",
    "#savefig('Plot-3d-Wen.png'), close()"
   ]
  },
  {
   "cell_type": "code",
   "execution_count": null,
   "metadata": {
    "collapsed": true
   },
   "outputs": [],
   "source": [
    "fig = plt.figure()\n",
    "ax = fig.add_subplot(111, projection='3d')\n",
    "\n",
    "a = [r['RA']]\n",
    "b = [r['DEC']]\n",
    "c = [r['Z_LAMBDA']]\n",
    "\n",
    "ax.scatter(a,c,b, c='b', marker = 'o', s=1)\n",
    "\n",
    "ax.set_xlabel('RA')\n",
    "ax.set_zlabel('DEC')\n",
    "ax.set_ylabel('z')\n",
    "ax.set_title('Redmapper')\n",
    "\n",
    "#savefig('Plot-3d-Red.png')"
   ]
  },
  {
   "cell_type": "code",
   "execution_count": null,
   "metadata": {
    "collapsed": true
   },
   "outputs": [],
   "source": [
    "print 'match to catalog 3d'\n",
    "idx, d2d, d3d = c_w.match_to_catalog_3d(c_r) \n",
    "print 'Match Wen em relacao ao Redmapper =',len(idx)\n",
    "#print idx, d2d, d3d \n",
    "\n",
    "print 'match to catalog 3d'\n",
    "idx, d2d, d3d = c_r.match_to_catalog_3d(c_w) \n",
    "print 'Match Wen em relacao ao Redmapper =',len(idx)\n",
    "#print idx, d2d, d3d "
   ]
  },
  {
   "cell_type": "code",
   "execution_count": null,
   "metadata": {
    "collapsed": true
   },
   "outputs": [],
   "source": [
    "print 'Objects around to catalog 3d'\n",
    "idxc_w, idxc_r, d2d, d3d = c_r.search_around_3d(c_w, 1000*u.kpc) \n",
    "print len(idxc_w), len(idxc_r)\n",
    "#print idxc_w, idexc_r, d2d, d3d\n",
    "\n",
    "obje_w = idxc_w\n",
    "obje_r = idxc_r\n",
    "\n",
    "o_we = w[obje_w]\n",
    "o_re = r[obje_r]\n",
    "\n",
    "print 'mean and standard deviation'\n",
    "\n",
    "delta_ra = o_re['RA'] - o_we['RAJ2000'] \n",
    "delta_dec = o_re['DEC'] - o_we['DEJ2000'] \n",
    "\n",
    "media_ra = delta_ra.mean()\n",
    "media_dec = delta_dec.mean()\n",
    "\n",
    "sigma_ra = delta_ra.std()\n",
    "sigma_dec = delta_dec.std()\n",
    "\n",
    "print 'Media RA =',media_ra\n",
    "print 'Media DEC =',media_dec \n",
    "print 'Desvio Padrao RA =',sigma_ra\n",
    "print 'Desvio Padrao DEC =',sigma_dec\n",
    "\n",
    "print 'Completeness - sky'\n",
    "Red_w = w['zph']\n",
    "Red_r = r['Z_LAMBDA']\n",
    "Red_we_m = o_we['zph']\n",
    "Red_re_m = o_re['Z_LAMBDA']\n",
    "Completeness_w = (Red_we_m[0])/(Red_w[0])\n",
    "Completeness_r = (Red_re_m[0])/(Red_r[0])\n",
    "Completeness_we_r = (Red_we_m[0]/Red_r[0])\n",
    "Completeness_re_w = (Red_re_m[0])/(Red_w[0])\n",
    "print Completeness_w, Completeness_r, Completeness_we_r, Completeness_re_w"
   ]
  },
  {
   "cell_type": "code",
   "execution_count": null,
   "metadata": {
    "collapsed": true
   },
   "outputs": [],
   "source": [
    "print 'Histogram z - 3D'\n",
    "\n",
    "ho_z = plt.hist(o_re['Z_LAMBDA'], normed=True, label = 'Redmapper')\n",
    "ho_z = plt.hist(o_we['zph'], normed=True, label = 'Wen', alpha = 0.5)\n",
    "plt.legend(loc = 2)\n",
    "plt.title('z', fontsize='20')"
   ]
  },
  {
   "cell_type": "code",
   "execution_count": null,
   "metadata": {
    "collapsed": true
   },
   "outputs": [],
   "source": [
    "print 'Dados - Macth Wen/Wen:'\n",
    "\n",
    "Red_we = (w['zph'])\n",
    "Red_we_m = o_we['zph']\n",
    "R_WE = len(Red_we)\n",
    "R_WE_M = len(Red_we_m)\n",
    "print 'Wen =', R_WE, 'e Match Wen =', R_WE_M\n",
    "\n",
    "print 'Calculo da Completeza'\n",
    "\n",
    "Hist_we = plt.hist(Red_we, label = 'z', range = [0, 0.8])\n",
    "Hist_we_m = plt.hist(Red_we_m, label = 'z - match', range = [0, 0.8], alpha = 0.5)\n",
    "\n",
    "plt.title('Completeness', fontsize='20')\n",
    "plt.xlim(0, 0.9)\n",
    "plt.legend()"
   ]
  },
  {
   "cell_type": "code",
   "execution_count": null,
   "metadata": {
    "collapsed": true
   },
   "outputs": [],
   "source": [
    "print 'Dados - Macth Redmapper/Redmapper:'\n",
    "\n",
    "Red_r = (r['Z_LAMBDA'])\n",
    "Red_r_m = (o_re['Z_LAMBDA'])\n",
    "R_R = len(Red_r)\n",
    "R_R_M = len(Red_r_m)\n",
    "print 'Redmapper =', R_R, 'e Match Redmapper =', R_R_M\n",
    "\n",
    "print 'Calculo da Completeza'\n",
    "\n",
    "Hist_r = plt.hist(Red_r, label = 'z', range = [0, 0.8])\n",
    "Hist_r_m = plt.hist(Red_r_m, alpha = 0.5, label = 'z - match', range = [0, 0.8])\n",
    "plt.ylim(0,30000)\n",
    "plt.xlim(0, 0.9)\n",
    "plt.title('Completeness', fontsize='20')\n",
    "plt.legend()"
   ]
  },
  {
   "cell_type": "code",
   "execution_count": null,
   "metadata": {
    "collapsed": true
   },
   "outputs": [],
   "source": [
    "print 'Dados - Match Redmapper/Wen:'\n",
    "\n",
    "Red_w = (w['zph'])\n",
    "Red_r_m = (o_re['Z_LAMBDA'])\n",
    "R_W = len(Red_w)\n",
    "R_R_M = len(Red_r_m)\n",
    "print 'Wen =', R_W, 'e Match Redmapper =', R_R_M\n",
    "\n",
    "print 'Calculo da Completeza'\n",
    "\n",
    "Hist_w = plt.hist(Red_w, label = 'z', range = [0, 0.8])\n",
    "Hist_r_m = plt.hist(Red_r_m, alpha = 0.75, label = 'z - match', range = [0, 0.8])\n",
    "plt.ylim(0,30000)\n",
    "plt.xlim(0, 0.9)\n",
    "plt.title('Completeness', fontsize='20')\n",
    "plt.legend()"
   ]
  },
  {
   "cell_type": "code",
   "execution_count": null,
   "metadata": {
    "collapsed": true
   },
   "outputs": [],
   "source": [
    "print 'Dados - Match Wen/Redmapper:'\n",
    "\n",
    "Red_r = (r['Z_LAMBDA'])\n",
    "Red_w_m = (o_we['zph'])\n",
    "R_R = len(Red_r)\n",
    "R_W_M = len(Red_w_m)\n",
    "print 'Redmapper =', R_R, 'e Match Wen =', R_W_M\n",
    "\n",
    "print 'Calculo da Completeza'\n",
    "\n",
    "Hist_r = plt.hist(Red_r, label = 'z', range = [0, 0.8])\n",
    "Hist_w_m = plt.hist(Red_w_m, alpha = 0.5, label = 'z - match', range = [0, 0.8])\n",
    "plt.ylim(0,30000)\n",
    "plt.xlim(0, 0.9)\n",
    "plt.title('Completeness', fontsize='20')\n",
    "plt.legend()"
   ]
  },
  {
   "cell_type": "code",
   "execution_count": null,
   "metadata": {
    "collapsed": true
   },
   "outputs": [],
   "source": [
    "print 'Plot z - 3D'\n",
    "\n",
    "fig = plt.figure(1)\n",
    "ax = fig.add_subplot(111)\n",
    "ax.plot(o_we['zph'], o_re['Z_LAMBDA'], 'bo')\n",
    "plt.xlabel('zph')\n",
    "plt.ylabel('Z_LAMBDA')\n",
    "plt.title('z')"
   ]
  },
  {
   "cell_type": "code",
   "execution_count": null,
   "metadata": {
    "collapsed": true
   },
   "outputs": [],
   "source": [
    "fig = plt.figure(1)\n",
    "ax = fig.add_subplot(111)\n",
    "z =  o_we['zph'] - o_re['Z_LAMBDA'] \n",
    "z_m = z \n",
    "media = z_m.mean()\n",
    "sigma = z_m.std()\n",
    "print 'Media =', media\n",
    "print 'Desvio Padrao =', sigma\n",
    "ax.plot(o_we['zph'], z, 'go')\n",
    "plt.ylabel('Z_LAMBDA - zph')\n",
    "plt.xlabel('zph')\n",
    "plt.xlim(0, 0.8)\n",
    "ax.set_yscale('log')"
   ]
  },
  {
   "cell_type": "code",
   "execution_count": null,
   "metadata": {
    "collapsed": true
   },
   "outputs": [],
   "source": [
    "print 'Histogram richness - 3d'\n",
    "ho_r = plt.hist(o_re['LAMBDA'], normed=True, label = 'Redmapper')\n",
    "ho_r = plt.hist(o_we['RL*'], normed=True, label = 'Wen', alpha=0.75)\n",
    "plt.legend()\n",
    "plt.title('Richness', fontsize='20')"
   ]
  },
  {
   "cell_type": "code",
   "execution_count": null,
   "metadata": {
    "collapsed": true
   },
   "outputs": [],
   "source": [
    "print 'Plot richness - 3d'\n",
    "\n",
    "fig = plt.figure(1)\n",
    "ax = fig.add_subplot(111)\n",
    "ax.plot(o_we['RL*'], o_re['LAMBDA'], 'ro')\n",
    "ax.set_xscale('log')\n",
    "ax.set_yscale('log')\n",
    "plt.xlabel('RL*')\n",
    "plt.ylabel('LAMBDA')\n",
    "plt.title('Richness')\n",
    "\n",
    "idxc_w, idxc_r, d2d, d3d = c_w.search_around_3d(c_r, 1000*u.kpc)\n",
    "#print idxc_w, idexc_r, d2d, d3d  "
   ]
  },
  {
   "cell_type": "code",
   "execution_count": null,
   "metadata": {
    "collapsed": true
   },
   "outputs": [],
   "source": [
    "print 'Plot ra, dec and z - 3d - match'\n",
    "\n",
    "fig = plt.figure()\n",
    "ax = fig.add_subplot(111, projection='3d')\n",
    "\n",
    "x = [o_we['RAJ2000'] + o_re['RA']]\n",
    "y = [o_we['DEJ2000'] + o_re['DEC']]\n",
    "z = [o_we['zph'] + o_re['Z_LAMBDA']]\n",
    "\n",
    "ax.scatter(x,z,y, c='r', marker = 'o', s=1)\n",
    "\n",
    "ax.set_xlabel('RA')\n",
    "ax.set_zlabel('DEC')\n",
    "ax.set_ylabel('z')"
   ]
  }
 ],
 "metadata": {
  "kernelspec": {
   "display_name": "Python 2",
   "language": "python",
   "name": "python2"
  },
  "language_info": {
   "codemirror_mode": {
    "name": "ipython",
    "version": 2
   },
   "file_extension": ".py",
   "mimetype": "text/x-python",
   "name": "python",
   "nbconvert_exporter": "python",
   "pygments_lexer": "ipython2",
   "version": "2.7.11"
  }
 },
 "nbformat": 4,
 "nbformat_minor": 0
}
